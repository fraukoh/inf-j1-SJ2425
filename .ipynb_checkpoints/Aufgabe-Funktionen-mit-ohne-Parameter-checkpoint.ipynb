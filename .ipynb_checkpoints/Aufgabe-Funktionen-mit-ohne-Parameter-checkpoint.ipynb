{
 "cells": [
  {
   "cell_type": "raw",
   "metadata": {
    "vscode": {
     "languageId": "raw"
    }
   },
   "source": [
    "---\n",
    "format:\n",
    "    html:\n",
    "        code-fold: true\n",
    "        code-summary: \"Lösung\"\n",
    "        theme: cosmo\n",
    "        css: custom.css\n",
    "jupyter: python3\n",
    "---"
   ]
  },
  {
   "cell_type": "markdown",
   "metadata": {},
   "source": [
    "# Aufgabe 1:\n",
    "Die Funktion __print_cow()__ soll eine Kuh auf der Konsole ausgeben. Die Kuh besteht aus mehreren Zeilen, die jeweils ein Teil der Kuh darstellen.   \n",
    "Die Funktion soll keine Parameter entgegennehmen. Sie soll die Kuh auf der Konsole ausgeben.\n"
   ]
  },
  {
   "cell_type": "code",
   "execution_count": 5,
   "metadata": {},
   "outputs": [
    {
     "name": "stdout",
     "output_type": "stream",
     "text": [
      "^__^\n",
      "(oo)\\_______\n",
      "(__)\\       )\\/\\/\n",
      "    ||----w |\n",
      "    ||     ||\n"
     ]
    }
   ],
   "source": [
    "def print_cow():\n",
    "    print(\"^__^\")\n",
    "    print(\"(oo)\\_______\")\n",
    "    print(\"(__)\\       )\\/\\/\")\n",
    "    print(\"    ||----w |\")\n",
    "    print(\"    ||     ||\")\n",
    "\n",
    "print_cow()"
   ]
  },
  {
   "cell_type": "markdown",
   "metadata": {},
   "source": [
    "[Struktogramm](Aufgabe-Funktionen-mit-ohne-Parameter_files/figure-html/cell-3-1-image.png)"
   ]
  },
  {
   "cell_type": "markdown",
   "metadata": {},
   "source": [
    "# Aufgabe 2:\n",
    "Schreiben Sie ein Unterprogramm __dreiecksFlaeche__, welches die Länge der Grundseite g und die zugehörige Höhe h übergeben bekommt.   \n",
    "Das Unterprogramm zeigt in der Konsole die Fläche A=0.5*g*h.   \n",
    "Testen Sie Ihr Unterprogramm indem Sie es aufrufen.   "
   ]
  },
  {
   "cell_type": "code",
   "execution_count": 7,
   "metadata": {},
   "outputs": [
    {
     "name": "stdout",
     "output_type": "stream",
     "text": [
      "Die Fläche beträgt:  6.0\n"
     ]
    }
   ],
   "source": [
    "def dreiecksFlaeche(g,h):\n",
    "    flaeche = 0.5*g*h\n",
    "    print(\"Die Fläche beträgt: \", flaeche)\n",
    "\n",
    "dreiecksFlaeche(3,4)"
   ]
  },
  {
   "cell_type": "markdown",
   "metadata": {},
   "source": [
    "[Struktogramm](Aufgabe-Funktionen-mit-ohne-Parameter_files/figure-html/cell-6-1-image.png)"
   ]
  },
  {
   "cell_type": "markdown",
   "metadata": {},
   "source": [
    "# Aufgabe 3:\n",
    "\n",
    "Erstellen Sie eine Funktion, die den jährlichen Zinsbetrag berechnet. Die Funktion soll die Parameter Kapital und Zinssatz in Prozent haben."
   ]
  },
  {
   "cell_type": "code",
   "execution_count": 11,
   "metadata": {},
   "outputs": [
    {
     "name": "stdout",
     "output_type": "stream",
     "text": [
      "Der Zinsbetrag beträgt:  50.0 Euro\n"
     ]
    }
   ],
   "source": [
    "def zinsbetrag(kapital, zinssatz):\n",
    "    zins = kapital * zinssatz/100\n",
    "    print(\"Der Zinsbetrag beträgt: \", zins, \"Euro\")\n",
    "\n",
    "zinsbetrag(1000, 5)"
   ]
  },
  {
   "cell_type": "markdown",
   "metadata": {},
   "source": [
    "[Struktogramm](Aufgabe-Funktionen-mit-ohne-Parameter_files/figure-html/cell-9-1-image.png)"
   ]
  },
  {
   "cell_type": "markdown",
   "metadata": {},
   "source": [
    "# Aufgabe 4:\n",
    "Erstellen Sie eine Funktion **cow_say(text)**, die eine ASCII-Kuh mit einer Sprechblase ausgibt. Der übergebene Text soll in der Sprechblase erscheinen."
   ]
  },
  {
   "cell_type": "code",
   "execution_count": 11,
   "metadata": {},
   "outputs": [
    {
     "name": "stdout",
     "output_type": "stream",
     "text": [
      "----------------\n",
      "< Hallo Welt! >\n",
      "---------------\n",
      "^__^\n",
      "(oo)\\_______\n",
      "(__)\\       )\\/\\/\n",
      "   ||----w |\n",
      "   ||     ||\n"
     ]
    }
   ],
   "source": [
    "def cow_say(text): \n",
    "    # Erstelle die Sprechblase\n",
    "    print(\"----------------\")\n",
    "    print(\"<\" , text , \">\")\n",
    "    print(\"---------------\")\n",
    "    \n",
    "    # Füge die Kuh hinzu\n",
    "    print(\"^__^\")\n",
    "    print(\"(oo)\\_______\")\n",
    "    print(\"(__)\\       )\\/\\/\")\n",
    "    print(\"   ||----w |\")\n",
    "    print(\"   ||     ||\")\n",
    "\n",
    "# Beispielaufruf\n",
    "cow_say(\"Hallo Welt!\")"
   ]
  },
  {
   "cell_type": "markdown",
   "metadata": {},
   "source": [
    "[Struktogramm](Aufgabe-Funktionen-mit-ohne-Parameter_files/figure-html/cell-12-1-image.png)"
   ]
  }
 ],
 "metadata": {
  "kernelspec": {
   "display_name": "Python 3 (ipykernel)",
   "language": "python",
   "name": "python3"
  },
  "language_info": {
   "codemirror_mode": {
    "name": "ipython",
    "version": 3
   },
   "file_extension": ".py",
   "mimetype": "text/x-python",
   "name": "python",
   "nbconvert_exporter": "python",
   "pygments_lexer": "ipython3",
   "version": "3.11.9"
  }
 },
 "nbformat": 4,
 "nbformat_minor": 4
}
