{
 "cells": [
  {
   "cell_type": "raw",
   "metadata": {},
   "source": [
    "---\n",
    "format:\n",
    "    html:\n",
    "        code-fold: true\n",
    "        code-summary: \"Lösung\"\n",
    "        theme: cosmo\n",
    "        css: custom.css\n",
    "jupyter: python3\n",
    "---"
   ]
  },
  {
   "cell_type": "markdown",
   "metadata": {},
   "source": [
    "# Aufgabe: Reisezeit-Rechner\n",
    "Sie sollen einen Reisezeit-Rechner programmieren, der für eine bestimmte Strecke und Geschwindigkeit die benötigte Reisezeit berechnet und ausgibt.\n",
    "\n",
    "1. Erstellen Sie dafür:\n",
    "        eine Funktion ```berechne_reisezeit(strecke, geschwindigkeit)```, die:   \n",
    "        Als Parameter die zurückzulegende Strecke in Kilometern und die Durchschnittsgeschwindigkeit in km/h entgegennimmt   \n",
    "        Die Reisezeit in Stunden berechnet (Strecke geteilt durch Geschwindigkeit)   \n",
    "        Die berechnete Zeit als Dezimalwert (z.B. 3.125 Stunden) zurückgibt   \n",
    "\n",
    "\n",
    "1. Testen Sie Ihre Funktionen mit folgenden Werten:   \n",
    "    Strecke: 250 km   \n",
    "    Geschwindigkeit: 80 km/h   \n",
    "\n",
    "Ihr Programm soll zum Schluss eine benutzerfreundliche Meldung ausgeben: ```\"Für eine Strecke von 250 km mit 80 km/h benötigen Sie: 3.125 Stunden\"```"
   ]
  },
  {
   "cell_type": "code",
   "execution_count": null,
   "metadata": {},
   "outputs": [
    {
     "name": "stdout",
     "output_type": "stream",
     "text": [
      "Für eine Strecke von 250 km mit 80 km/h benötigen Sie: 3.125 Stunden\n"
     ]
    }
   ],
   "source": [
    "def berechne_reisezeit(strecke, geschwindigkeit):\n",
    "    zeit = strecke / geschwindigkeit\n",
    "    return zeit\n",
    "\n",
    "# Demonstration\n",
    "strecke_km = 250\n",
    "geschwindigkeit_kmh = 80\n",
    "reisezeit = berechne_reisezeit(strecke_km, geschwindigkeit_kmh)\n",
    "\n",
    "print(\"Für eine Strecke von\", strecke_km,  \"km mit\", geschwindigkeit_kmh, \"km/h\", \"benötigen Sie:\", reisezeit, \"Stunden\")\n"
   ]
  },
  {
   "cell_type": "markdown",
   "metadata": {},
   "source": [
    "[Struktogramm](Aufgaben-Funktionen-mit-Rueckgabewert_files/figure-html/cell-3-1-image.png)"
   ]
  },
  {
   "cell_type": "markdown",
   "metadata": {},
   "source": [
    "# Aufgabe: Online-Shop Endpreisberechnung\n",
    "Sie sollen für einen Online-Shop eine Funktion programmieren, die den Endpreis eines Artikels berechnet. Der Endpreis setzt sich zusammen aus dem ursprünglichen Artikelpreis, einem prozentualen Rabatt und den Versandkosten.\n",
    "\n",
    "1. Erstellen Sie eine Funktion namens ```berechne_endpreis```, die drei Parameter annimmt:   \n",
    "        ```preis```: Der ursprüngliche Artikelpreis in Euro   \n",
    "        ```rabatt_prozent```: Der Rabatt in Prozent (z.B. 15 für 15%)   \n",
    "        ```versandkosten```: Die Versandkosten in Euro   \n",
    "2. In der Funktion sollen Sie:   \n",
    "        Den Rabattbetrag in Euro berechnen (```Preis × Rabatt-Prozent / 100```)   \n",
    "        Den Endpreis berechnen (```Preis - Rabattbetrag + Versandkosten```) und zurückgeben   \n",
    "3. Testen Sie Ihre Funktion mit folgenden Werten:   \n",
    "        Artikelpreis: 79.99 €   \n",
    "        Rabatt: 15%   \n",
    "        Versandkosten: 12.50 €   \n",
    "4. Geben Sie den berechneten Endpreis mit der Nachricht \"Endpreis mit Versand:\" aus.\n"
   ]
  },
  {
   "cell_type": "code",
   "execution_count": 1,
   "metadata": {},
   "outputs": [
    {
     "name": "stdout",
     "output_type": "stream",
     "text": [
      "Endpreis mit Versand: 80.4915 €\n"
     ]
    }
   ],
   "source": [
    "def berechne_endpreis(preis, rabatt_prozent, versandkosten):\n",
    "    rabatt_betrag = preis * rabatt_prozent / 100\n",
    "    return preis - rabatt_betrag + versandkosten\n",
    "\n",
    "# Demonstration\n",
    "artikel_preis = 79.99\n",
    "rabatt = 15  # 15% Rabatt\n",
    "versandkosten = 12.50\n",
    "\n",
    "endpreis = berechne_endpreis(artikel_preis, rabatt, versandkosten)\n",
    "print(\"Endpreis mit Versand:\", endpreis, \"€\")\n"
   ]
  },
  {
   "cell_type": "markdown",
   "metadata": {},
   "source": [
    "[Struktogramm](Aufgaben-Funktionen-mit-Rueckgabewert_files/figure-html/cell-6-1-image.png)"
   ]
  },
  {
   "cell_type": "markdown",
   "metadata": {},
   "source": [
    "# Aufgabe: Münzwert-Rechner\n",
    "Sie sollen einen Münzwert-Rechner für Euro-Münzen programmieren. Der Rechner soll den Gesamtwert einer Münzsammlung berechnen, die aus 1-Cent-, 2-Cent-, 5-Cent-, 10-Cent-, 20-Cent- und 50-Cent-Münzen besteht.\n",
    "\n",
    "1. Erstellen Sie eine Funktion ```berechne_gesamtwert```, die:   \n",
    "    Sechs Parameter entgegennimmt: die Anzahl der jeweiligen Münzen (```anzahl_1c, anzahl_2c, anzahl_5c, anzahl_10c, anzahl_20c, anzahl_50c```)   \n",
    "    Den Wert jeder Münzart in Cent berechnet   \n",
    "    Alle Werte addiert, um den Gesamtwert in Cent zu ermitteln   \n",
    "    Den Gesamtwert in Cent zurückgibt   \n",
    "\n",
    "1. Testen Sie Ihre Funktion mit folgenden Werten:   \n",
    "    10 Stück 1-Cent-Münzen   \n",
    "    5 Stück 2-Cent-Münzen   \n",
    "    3 Stück 5-Cent-Münzen   \n",
    "    2 Stück 10-Cent-Münzen   \n",
    "    1 Stück 20-Cent-Münzen   \n",
    "    2 Stück 50-Cent-Münzen   \n",
    "\n",
    "2. Geben Sie das Ergebnis in Euro aus (```Cent-Wert / 100```)."
   ]
  },
  {
   "cell_type": "code",
   "execution_count": 13,
   "metadata": {},
   "outputs": [
    {
     "name": "stdout",
     "output_type": "stream",
     "text": [
      "Der Gesamtwert Ihrer Münzsammlung beträgt: 1.75 Euro\n"
     ]
    }
   ],
   "source": [
    "def berechne_gesamtwert(anzahl_1c, anzahl_2c, anzahl_5c, anzahl_10c, anzahl_20c, anzahl_50c):\n",
    "    wert_1c = anzahl_1c\n",
    "    wert_2c = anzahl_2c * 2\n",
    "    wert_5c = anzahl_5c * 5\n",
    "    wert_10c = anzahl_10c * 10\n",
    "    wert_20c = anzahl_20c * 20\n",
    "    wert_50c = anzahl_50c * 50\n",
    "\n",
    "    gesamtwert = wert_1c + wert_2c + wert_5c + wert_10c + wert_20c + wert_50c\n",
    "    \n",
    "    return gesamtwert\n",
    "\n",
    "\n",
    "gesamt_cent = berechne_gesamtwert(10, 5, 3, 2, 1, 2)\n",
    "print(\"Der Gesamtwert Ihrer Münzsammlung beträgt:\", gesamt_cent/100 , \"Euro\")\n"
   ]
  },
  {
   "cell_type": "markdown",
   "metadata": {},
   "source": [
    "[Struktogramm](Aufgaben-Funktionen-mit-Rueckgabewert_files/figure-html/cell-9-1-image.png)"
   ]
  },
  {
   "cell_type": "markdown",
   "metadata": {},
   "source": [
    "# Aufgabe: Notenpunkte-Umrechner für die gymnasiale Oberstufe\n",
    "Sie sollen einen Notenpunkte-Umrechner für die gymnasiale Oberstufe programmieren. In der Oberstufe werden Leistungen sowohl mit klassischen Schulnoten (1,0 bis 6,0) als auch mit Punkten (15 bis 0) bewertet.\n",
    "\n",
    "Ihr Programm soll beide Umrechnungsrichtungen ermöglichen.\n",
    "\n",
    "Erstellen Sie zwei Funktionen:\n",
    "\n",
    "1. Die Funktion ```note_zu_punkte(note)```, die:\n",
    "        Als Parameter eine klassische Schulnote (z.B. 1,0 / 2,3 / 3,7) entgegennimmt\n",
    "        Diese Note in das entsprechende Punktesystem der Oberstufe umrechnet\n",
    "        Die berechneten Punkte zurückgibt\n",
    "1. Die Funktion ```punkte_zu_note(punkte)```, die:\n",
    "        Als Parameter eine Punktzahl (z.B. 15 / 10 / 5) entgegennimmt\n",
    "        Diese Punkte in eine klassische Schulnote umrechnet\n",
    "        Die berechnete Note zurückgibt\n",
    "\n",
    "Die Umrechnungsformel für die erste Funktion lautet: ```15 - (note - 1) * 3``` Umrechnungsformel für die zweite Funktion lautet: ```1 + (15 - punkte) / 3``` \n",
    "\n",
    "Führen Sie Ihre Funktionen mit folgenden Werten aus:\n",
    "\n",
    "> Umrechnung der Noten 2,0 und 3,7 in Punkte   \n",
    "> Umrechnung von 10 Punkten in eine Note   \n",
    "\n",
    "Ihr Programm soll für jede Umrechnung eine informative Ausgabe liefern."
   ]
  },
  {
   "cell_type": "code",
   "execution_count": 6,
   "metadata": {},
   "outputs": [
    {
     "name": "stdout",
     "output_type": "stream",
     "text": [
      "Die Note 2.0 entspricht 12.0 Punkten\n",
      "Die Note 3.7 entspricht 6.899999999999999 Punkten\n",
      "Die Punkte 10 entsprechen der Note 2.666666666666667\n"
     ]
    }
   ],
   "source": [
    "def note_zu_punkte(note):\n",
    "    return 15 - (note - 1) * 3\n",
    "\n",
    "def punkte_zu_note(punkte):\n",
    "    return 1 + (15 - punkte) / 3\n",
    "\n",
    "# Demonstration\n",
    "note1 = 2.0\n",
    "note2 = 3.7\n",
    "\n",
    "punkte1 = note_zu_punkte(note1)\n",
    "punkte2 = note_zu_punkte(note2)\n",
    "\n",
    "print(\"Die Note\", note1, \"entspricht\", punkte1, \"Punkten\")\n",
    "print(\"Die Note\", note2, \"entspricht\", punkte2, \"Punkten\")\n",
    "\n",
    "punkte_test = 10\n",
    "note_test = punkte_zu_note(punkte_test)\n",
    "print(\"Die Punkte\", punkte_test, \"entsprechen der Note\", note_test)\n"
   ]
  },
  {
   "cell_type": "markdown",
   "metadata": {},
   "source": [
    "[Struktogramm](Aufgaben-Funktionen-mit-Rueckgabewert_files/figure-html/cell-12-1-image.png)"
   ]
  }
 ],
 "metadata": {
  "kernelspec": {
   "display_name": "Python 3 (ipykernel)",
   "language": "python",
   "name": "python3"
  },
  "language_info": {
   "codemirror_mode": {
    "name": "ipython",
    "version": 3
   },
   "file_extension": ".py",
   "mimetype": "text/x-python",
   "name": "python",
   "nbconvert_exporter": "python",
   "pygments_lexer": "ipython3",
   "version": "3.11.9"
  }
 },
 "nbformat": 4,
 "nbformat_minor": 4
}
