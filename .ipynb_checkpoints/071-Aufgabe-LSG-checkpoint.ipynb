{
 "cells": [
  {
   "cell_type": "raw",
   "metadata": {},
   "source": [
    "---\n",
    "format:\n",
    "    html:\n",
    "        code-fold: true\n",
    "        code-summary: \"Lösung\"\n",
    "        theme: cosmo\n",
    "        css: custom.css\n",
    "jupyter: python3\n",
    "---"
   ]
  },
  {
   "cell_type": "markdown",
   "metadata": {},
   "source": [
    "# Aufgabe:\n",
    "Bei den bisherigen Programmen waren alle Werte fest vom Programmcode vorgegeben. Es bestand keine Möglichkeit für die Programmbenutzer, selber Werte in das Programm einzugeben. Diese Option wird jetzt gezeigt. Schreiben Sie dazu ein Programm, das den Inhalt einer Kreisfläche berechnet. Der Benutzer soll den Radius im Programm auf Aufforderung eingeben. Das Programm errechnet die passende Kreisfläche und gibt das Ergebnis aus.\n",
    "\n",
    "Formel: $F=r^2\\pi$\n",
    "\n",
    "$F$-Fläche, $r$-Radius.\n"
   ]
  },
  {
   "cell_type": "markdown",
   "metadata": {},
   "source": [
    "#### Welche Eigenschaften haben die Ausgabedaten? (Variablenliste)"
   ]
  },
  {
   "cell_type": "markdown",
   "metadata": {},
   "source": [
    "| Bedeutung | Datentyp| Variable|\n",
    "|-|-|-|\n",
    "|Eingabe: Radius in cm| Dezimalzahl |radius|\n",
    "|Verarbeitung: Kreiszahl Pi | Dezimalzahl | pi |\n",
    "|Berechnung und Ausgabe: Fläche in cm2| Dezimalzahl| flaeche |\n"
   ]
  },
  {
   "cell_type": "markdown",
   "metadata": {},
   "source": [
    "### Programmcode (Python-Code)"
   ]
  },
  {
   "cell_type": "code",
   "execution_count": 1,
   "metadata": {},
   "outputs": [
    {
     "name": "stdout",
     "output_type": "stream",
     "text": [
      "Bitte Radius eingeben:  10\n"
     ]
    },
    {
     "name": "stdout",
     "output_type": "stream",
     "text": [
      "Der Inhalt der Kreisfläche beträgt: 314.0\n"
     ]
    }
   ],
   "source": [
    "#Hier den Programmcode eingeben und mit STRG+ENTER ausführen\n",
    "radius = float(input(\"Bitte Radius eingeben: \"))\n",
    "pi = 3.14\n",
    "flaeche = radius * radius * pi\n",
    "print(\"Der Inhalt der Kreisfläche beträgt:\", flaeche)"
   ]
  },
  {
   "cell_type": "markdown",
   "metadata": {},
   "source": [
    "[Struktogramm](071-Aufgabe-LSG_files/figure-html/cell-5-1-14852b0b-3637-4bd1-987c-2e4af82390a5.png)"
   ]
  }
 ],
 "metadata": {
  "kernelspec": {
   "display_name": "Python 3 (ipykernel)",
   "language": "python",
   "name": "python3"
  },
  "language_info": {
   "codemirror_mode": {
    "name": "ipython",
    "version": 3
   },
   "file_extension": ".py",
   "mimetype": "text/x-python",
   "name": "python",
   "nbconvert_exporter": "python",
   "pygments_lexer": "ipython3",
   "version": "3.11.9"
  }
 },
 "nbformat": 4,
 "nbformat_minor": 4
}
