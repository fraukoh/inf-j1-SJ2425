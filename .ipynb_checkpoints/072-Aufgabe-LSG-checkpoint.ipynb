{
 "cells": [
  {
   "cell_type": "raw",
   "metadata": {},
   "source": [
    "---\n",
    "format:\n",
    "    html:\n",
    "        code-fold: true\n",
    "        theme: cosmo\n",
    "jupyter: python3\n",
    "---"
   ]
  },
  {
   "cell_type": "markdown",
   "metadata": {},
   "source": [
    "# Aufgabe:\n",
    "Schreiben Sie ein Programm, das den Umfang und den Flächeninhalt eines Rechtecks berechnet. Der Benutzer gibt dazu die Länge und die Breite des Rechtecks ein. Das Programm berechnet die Ergebnisse und gibt diese aus.\n"
   ]
  },
  {
   "cell_type": "markdown",
   "metadata": {},
   "source": [
    "#### Welche Eigenschaften haben die Ausgabedaten? (Variablenliste)"
   ]
  },
  {
   "cell_type": "markdown",
   "metadata": {},
   "source": [
    "|Bedeutung| Typ| Variable|\n",
    "|-|-|-|\n",
    "|Eingabe: Länge in cm| Dezimalzahl| laenge|\n",
    "|Eingabe: Breite in cm| Dezimalzahl| breite|\n",
    "|Berechnung und Ausgabe: Umfang in cm| Dezimalzahl| umfang|\n",
    "|Berechnung und Ausgabe: Fläche in cm2| Dezimalzahl| flaeche|\n"
   ]
  },
  {
   "cell_type": "markdown",
   "metadata": {},
   "source": [
    "### Programmcode (Python-Code)"
   ]
  },
  {
   "cell_type": "code",
   "execution_count": null,
   "metadata": {},
   "outputs": [],
   "source": [
    "#Hier den Programmcode eingeben und mit STRG+ENTER ausführen\n",
    "laenge = float(input(\"Länge des Rechtecks: \"))\n",
    "breite = float(input(\"Breite des Rechtecks: \"))\n",
    "umfang = 2 * (laenge + breite)\n",
    "flaeche = laenge * breite\n",
    "print(\"Der Umfang des Rechtecks beträgt: \", umfang, \"cm\")\n",
    "print(\"Die Fläche des Rechtecks beträgt: \", flaeche, \"cm^2\")"
   ]
  },
  {
   "cell_type": "markdown",
   "metadata": {},
   "source": [
    "[Struktogramm](072-Aufgabe-LSG_files/figure-html/cell-5-1-0065b9a4-c3c3-4a47-b5d6-1e25ff919686.png)"
   ]
  }
 ],
 "metadata": {
  "kernelspec": {
   "display_name": "Python 3 (ipykernel)",
   "language": "python",
   "name": "python3"
  },
  "language_info": {
   "codemirror_mode": {
    "name": "ipython",
    "version": 3
   },
   "file_extension": ".py",
   "mimetype": "text/x-python",
   "name": "python",
   "nbconvert_exporter": "python",
   "pygments_lexer": "ipython3",
   "version": "3.10.12"
  }
 },
 "nbformat": 4,
 "nbformat_minor": 4
}
