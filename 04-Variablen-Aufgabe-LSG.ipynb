{
 "cells": [
  {
   "cell_type": "raw",
   "metadata": {},
   "source": [
    "---\n",
    "format:\n",
    "    html:\n",
    "        code-fold: true\n",
    "        theme: cosmo\n",
    "jupyter: python3\n",
    "---"
   ]
  },
  {
   "cell_type": "markdown",
   "metadata": {},
   "source": [
    "# Aufgabe:\n",
    "Schreiben Sie ein Programm, das die Daten eines Schülers in mehreren Variablen speichert und hinterher ausgibt.\n",
    "\n",
    "Zu speichern sind: Nachname, Vorname, Alter, Notendurchschnitt, zweite Fremdsprache(True/False) und Musik (True/False).\n",
    "\n",
    "Diese Daten sollen dann im Browser ausgegeben werden."
   ]
  },
  {
   "cell_type": "markdown",
   "metadata": {},
   "source": [
    "#### Welche Eigenschaften haben die Ausgabedaten? (Variablenliste)"
   ]
  },
  {
   "cell_type": "markdown",
   "metadata": {},
   "source": [
    "|Bedeutung| Inhalt|Variablenname|\n",
    "|-|-|-|\n",
    "|Name| Zeichenkette| nachname|\n",
    "|Vorname| Zeichenkette| vorname|\n",
    "|Alter| Ganzzahl| alter|\n",
    "|Notendurchschnitt| Dezimalzahl| schnitt|\n",
    "|zweite Fremdsprache| Wahrheitswert| zweit_fremd|\n",
    "|Musik| Wahrheitswert| musik|"
   ]
  },
  {
   "cell_type": "code",
   "execution_count": 1,
   "metadata": {},
   "outputs": [
    {
     "name": "stdout",
     "output_type": "stream",
     "text": [
      "Name: Max Mustermann\n",
      "Alter: 17\n",
      "Notenschnitt: 1.8\n",
      "2. Fremdsprache belegt: True\n",
      "Musik belegt: False\n"
     ]
    }
   ],
   "source": [
    "#Hier den Programmcode eingeben und mit STRG+ENTER ausführen\n",
    "# Deklaration und Initialisierung der Variablen:\n",
    "nachname = \"Mustermann\"\t\n",
    "vorname = \"Max\"\n",
    "alter = 17\n",
    "schnitt = 1.8\n",
    "zweit_fremd = True\n",
    "musik = False\n",
    "\n",
    "# Ausgabe:\n",
    "print(\"Name:\", vorname, nachname)\n",
    "print(\"Alter:\", alter)\n",
    "print(\"Notenschnitt:\", schnitt)\n",
    "print(\"2. Fremdsprache belegt:\", zweit_fremd)\n",
    "print(\"Musik belegt:\", musik)"
   ]
  },
  {
   "cell_type": "markdown",
   "metadata": {},
   "source": [
    "[Struktogramm](04-Variablen-Aufgabe-LSG_files/figure-html/cell-5-1-fef6123d-ef1e-49ec-9dc6-793eded87502.png)"
   ]
  }
 ],
 "metadata": {
  "kernelspec": {
   "display_name": "Python 3 (ipykernel)",
   "language": "python",
   "name": "python3"
  },
  "language_info": {
   "codemirror_mode": {
    "name": "ipython",
    "version": 3
   },
   "file_extension": ".py",
   "mimetype": "text/x-python",
   "name": "python",
   "nbconvert_exporter": "python",
   "pygments_lexer": "ipython3",
   "version": "3.10.12"
  }
 },
 "nbformat": 4,
 "nbformat_minor": 4
}
