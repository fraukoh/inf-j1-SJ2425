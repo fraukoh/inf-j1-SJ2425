{
 "cells": [
  {
   "cell_type": "markdown",
   "metadata": {},
   "source": [
    "# Variable als Zeichenkette\n",
    "Werte wie Zeichenketten, Zahlen oder Wahrheitswerte  werden in Variablen gespeichert. Variablen machen Programme leichter lesbar, weil durch die Bezeichnung der Variablen deutlich wird, wofür die verschiedenen Werte stehen. Zudem dienen Variablen dazu, Werte für spätere Operationen verfügbar zu halten. Sie sind also ein Speicher für Werte, die man im Laufe des Programms immer wieder benötigt.\n",
    "Möchte man eine Zeichenkette in einer Variablen speichern, dann muss dafür ein Speicherplatz geschaffen werden. Diesen Speicherplatz kann man sich wie eine Schublade vorstellen. Außerdem braucht man einen Namen für die Variable, damit man auf den Inhalt später wieder zugreifen kann. \n",
    "Im folgenden Beispiel wird die Vorgehensweise erläutert: "
   ]
  },
  {
   "cell_type": "code",
   "execution_count": 1,
   "metadata": {},
   "outputs": [
    {
     "name": "stdout",
     "output_type": "stream",
     "text": [
      "Peter\n"
     ]
    }
   ],
   "source": [
    "# Beispiel für die Verwendung einer Variablen\n",
    "name = \"Peter\"   # Deklaration und Initialisierung\n",
    "print(name)      # Ausgabe der Variablen \"name\" auf dem Bildschirm"
   ]
  },
  {
   "cell_type": "markdown",
   "metadata": {},
   "source": [
    "Dieses kleine Python-Programm enthält zwei unterschiedliche Anweisungen. Zu beachten ist, \n",
    "* dass jede Anweisung in einer neuen Zeile steht,\n",
    "* dass eine Zeichenkette immer zwischen doppelten (oder einfachen) Anführungsstrichen geschrieben wird,\n",
    "* dass mit dem Zeichen „#“ ein Kommentar zur Beschreibung der einzelnen Teile des Programms eingeleitet wird. \n",
    "Kommentare werden nicht als Programmcode interpretiert."
   ]
  },
  {
   "cell_type": "markdown",
   "metadata": {},
   "source": [
    "## Struktogramm zum Programm:"
   ]
  },
  {
   "attachments": {
    "07638b61-9047-4a24-8569-762cef788bd1.png": {
     "image/png": "[encoded data removed]"
    }
   },
   "cell_type": "markdown",
   "metadata": {},
   "source": [
    "![image.png](attachment:07638b61-9047-4a24-8569-762cef788bd1.png)"
   ]
  },
  {
   "cell_type": "markdown",
   "metadata": {},
   "source": [
    "### Namensregeln für Variablen:\n",
    "* Am Anfang sollte ein Kleinbuchstabe stehen. Ziffern sind nicht zulässig.\n",
    "* Danach dürfen Groß- und Kleinbuchstaben sowie Ziffern und Unterstriche verwendet werden.\n",
    "* Umlaute wie ä, ö, ü das ß, Leerzeichen und weitere Sonderzeichen sind nicht erlaubt.\n",
    "* Schlüsselwörter aus Programmiersprachen, z.B. for dürfen nicht verwendet werden.\n",
    "* Der Name sollte etwas über den Inhalt der Variablen aussagen. Dabei hat sich in Python als Standard ergeben, dass bei zusammengesetzten Wörtern die einzelnen Wörter durch einen Unterstrich getrennt werden, also z.B. _alter_in_jahren_ oder _gewicht_in_kg_."
   ]
  },
  {
   "cell_type": "markdown",
   "metadata": {},
   "source": [
    "### Ausgabe mehrerer Variablen in einer Bildschirmausgabe"
   ]
  },
  {
   "cell_type": "code",
   "execution_count": null,
   "metadata": {},
   "outputs": [],
   "source": [
    "subjekt = \"Ich\"\n",
    "praedikat = \"spiele\"\n",
    "objekt = \"Fußball\"\n",
    "print(subjekt, praedikat, objekt, \"auf der Wiese.\")"
   ]
  }
 ],
 "metadata": {
  "kernelspec": {
   "display_name": "Python 3 (ipykernel)",
   "language": "python",
   "name": "python3"
  },
  "language_info": {
   "codemirror_mode": {
    "name": "ipython",
    "version": 3
   },
   "file_extension": ".py",
   "mimetype": "text/x-python",
   "name": "python",
   "nbconvert_exporter": "python",
   "pygments_lexer": "ipython3",
   "version": "3.10.12"
  }
 },
 "nbformat": 4,
 "nbformat_minor": 4
}
