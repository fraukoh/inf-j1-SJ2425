{
 "cells": [
  {
   "cell_type": "code",
   "execution_count": null,
   "metadata": {},
   "outputs": [],
   "source": [
    "# Erstelle eine interessante Aufgabe, in der die Schüler input() verwenden müssen.\n",
    "# Die Aufgabe sollte so gestaltet sein, dass die Schüler die Eingabe von input() nicht in einer Schleife verwenden müssen.\n",
    "\n",
    "# In diesem Beispiel wird der Benutzer aufgefordert, eine Zahl einzugeben, und das Programm gibt zurück, ob die Zahl gerade oder ungerade ist.\n",
    "\n",
    "# Zuerst wird der Benutzer aufgefordert, eine Zahl einzugeben.\n",
    "zahl = input(\"Bitte geben Sie eine Zahl ein: \")\n",
    "\n",
    "# Dann wird die Eingabe in eine Ganzzahl umgewandelt.\n",
    "zahl = int(zahl)\n",
    "\n",
    "# Wenn die Zahl modulo 2 gleich 0 ist, ist sie gerade, andernfalls ist sie ungerade.\n",
    "if zahl % 2 == 0:\n",
    "    print(\"Die Zahl ist gerade.\")\n",
    "else:\n",
    "    print(\"Die Zahl ist ungerade.\")\n",
    "\n",
    "# Hier ist ein Beispiel für eine mögliche Ausgabe:\n",
    "# Bitte geben Sie eine Zahl ein: 7\n",
    "# Die Zahl ist ungerade.\n",
    "\n"
   ]
  },
  {
   "cell_type": "code",
   "execution_count": null,
   "metadata": {},
   "outputs": [],
   "source": [
    "# Generiere bitte eine Aufgabe zu dem Stapelspeicher als Datenstruktur\n",
    "\n",
    "# In dieser Aufgabe sollen die Schüler eine Liste verwenden, um den Stapelspeicher zu simulieren.\n",
    "# Der Stapelspeicher ist ein Datenstruktur, die nach dem LIFO-Prinzip (Last In, First Out) funktioniert.\n",
    "# Die Schüler sollen eine Liste verwenden, um den Stapelspeicher zu simulieren, und die folgenden Operationen durchführen:\n",
    "# - push(element): Fügt ein Element oben auf den Stapelspeicher hinzu.\n",
    "# - pop(): Entfernt das oberste Element vom Stapelspeicher und gibt es zurück.\n",
    "\n",
    "# Hier ist ein Beispiel für die Verwendung des Stapelspeichers:\n",
    "# stack = []  # Initialisierung des Stapelspeichers\n",
    "# push(1)  # stack = [1]\n",
    "# push(2)  # stack = [1, 2]\n",
    "# push(3)  # stack = [1, 2, 3]\n",
    "# pop()  # stack = [1, 2], Rückgabe: 3\n",
    "# pop()  # stack = [1], Rückgabe: 2\n",
    "# push(4)  # stack = [1, 4]\n",
    "# pop()  # stack = [1], Rückgabe: 4\n",
    "# pop()  # stack = [], Rückgabe: 1\n"
   ]
  }
 ],
 "metadata": {
  "language_info": {
   "name": "python"
  }
 },
 "nbformat": 4,
 "nbformat_minor": 2
}
