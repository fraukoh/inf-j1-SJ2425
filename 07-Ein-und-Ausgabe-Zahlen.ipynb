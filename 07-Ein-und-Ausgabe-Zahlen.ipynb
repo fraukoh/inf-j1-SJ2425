{
 "cells": [
  {
   "cell_type": "markdown",
   "metadata": {},
   "source": [
    "# Eingabe von Zahlen mit _input()_\n",
    "Die Funktion _input()_ hat eine auf den ersten Blick überraschende Eigenschaft: Sie interpretiert alle eingegebenen Zahlen als Zeichen, d.h. auch Ziffern werden als Zeichen und nicht als Zahlen betrachtet. Das wird im folgenden Programm deutlich:"
   ]
  },
  {
   "cell_type": "code",
   "execution_count": 1,
   "metadata": {},
   "outputs": [
    {
     "name": "stdin",
     "output_type": "stream",
     "text": [
      "Bitte geben Sie eine Zahl ein:  10\n"
     ]
    },
    {
     "ename": "TypeError",
     "evalue": "unsupported operand type(s) for /: 'str' and 'int'",
     "output_type": "error",
     "traceback": [
      "\u001b[0;31m---------------------------------------------------------------------------\u001b[0m",
      "\u001b[0;31mTypeError\u001b[0m                                 Traceback (most recent call last)",
      "\u001b[0;32m<ipython-input-1-158536c22bf8>\u001b[0m in \u001b[0;36m<module>\u001b[0;34m\u001b[0m\n\u001b[1;32m      1\u001b[0m \u001b[0;31m#Beispiel\u001b[0m\u001b[0;34m\u001b[0m\u001b[0;34m\u001b[0m\u001b[0;34m\u001b[0m\u001b[0m\n\u001b[1;32m      2\u001b[0m \u001b[0mzahl\u001b[0m \u001b[0;34m=\u001b[0m \u001b[0minput\u001b[0m\u001b[0;34m(\u001b[0m\u001b[0;34m\"Bitte geben Sie eine Zahl ein: \"\u001b[0m\u001b[0;34m)\u001b[0m\u001b[0;34m\u001b[0m\u001b[0;34m\u001b[0m\u001b[0m\n\u001b[0;32m----> 3\u001b[0;31m \u001b[0mhaelfte\u001b[0m \u001b[0;34m=\u001b[0m \u001b[0mzahl\u001b[0m \u001b[0;34m/\u001b[0m \u001b[0;36m2\u001b[0m\u001b[0;34m\u001b[0m\u001b[0;34m\u001b[0m\u001b[0m\n\u001b[0m\u001b[1;32m      4\u001b[0m \u001b[0mprint\u001b[0m\u001b[0;34m(\u001b[0m\u001b[0;34m\"Die Hälfte der eingegebenen Zahl ist: \"\u001b[0m\u001b[0;34m,\u001b[0m \u001b[0mhaelfte\u001b[0m\u001b[0;34m)\u001b[0m\u001b[0;34m\u001b[0m\u001b[0;34m\u001b[0m\u001b[0m\n",
      "\u001b[0;31mTypeError\u001b[0m: unsupported operand type(s) for /: 'str' and 'int'"
     ]
    }
   ],
   "source": [
    "#Beispiel\n",
    "zahl = input(\"Bitte geben Sie eine Zahl ein: \")\n",
    "haelfte = zahl / 2\n",
    "print(\"Die Hälfte der eingegebenen Zahl ist: \", haelfte)"
   ]
  },
  {
   "cell_type": "markdown",
   "metadata": {},
   "source": [
    "Hier wird ausgesagt, dass die Operation „/“, also die Division, mit den Datentypen „str“ (= String, Zeichenkette) und „int“ (= Ganzzahl) nicht durchgeführt werden kann, was ja auch stimmt – Es macht ja auch keinen Sinn, eine Zeichenkette durch die Zahl 2 zu teilen!"
   ]
  },
  {
   "cell_type": "markdown",
   "metadata": {},
   "source": [
    "Lösung:\n",
    "Da Python Werte der Funktion _input()_ immer als Text („String“) interpretiert, muss man die eingegebenen Zeichen beim Abspeichern in der Variablen mittels der Funktion _float()_ in eine Dezimalzahl umwandeln:\n",
    "```\n",
    "zahl_zeichenkette = input(\"Bitte geben Sie eine Zahl ein: \")\n",
    "zahl_dezimalzahl = float(zahl_zeichenkette)\n",
    "```\n",
    "Alternativ kann die Zeile \n",
    "```\n",
    "zahl = input(\"Bitte geben Sie eine Zahl ein: \")\n",
    "```\n",
    "erweitert werden zu:\n",
    "```\n",
    "zahl = float(input(\"Bitte geben Sie eine Zahl ein: \"))\n",
    "```\n",
    "Das korrigierte und funktionierende Programm sieht jetzt so aus:"
   ]
  },
  {
   "cell_type": "code",
   "execution_count": 2,
   "metadata": {},
   "outputs": [
    {
     "name": "stdin",
     "output_type": "stream",
     "text": [
      "Bitte geben Sie eine Zahl ein:  10\n"
     ]
    },
    {
     "name": "stdout",
     "output_type": "stream",
     "text": [
      "Die Hälfte der eingegebenen Zahl ist: 5.0\n"
     ]
    }
   ],
   "source": [
    "zahl = float(input(\"Bitte geben Sie eine Zahl ein: \"))\n",
    "haelfte = zahl / 2\n",
    "print(\"Die Hälfte der eingegebenen Zahl ist:\", haelfte)"
   ]
  },
  {
   "cell_type": "markdown",
   "metadata": {},
   "source": [
    "## Struktogramm:"
   ]
  },
  {
   "attachments": {
    "7afa0d1b-286d-43ab-a94c-6be163d5cdd1.png": {
     "image/png": "[encoded data removed]"
    }
   },
   "cell_type": "markdown",
   "metadata": {},
   "source": [
    "![image.png](attachment:7afa0d1b-286d-43ab-a94c-6be163d5cdd1.png)"
   ]
  },
  {
   "cell_type": "markdown",
   "metadata": {},
   "source": [
    "## Wichtiger Hinweis: \n",
    "Soll eine Ganzzahl eingegeben werden, muss die Funktion _int()_ benutzt werden, also z.B.:\n",
    "```\n",
    "anzahlAutos = int(input(\"Anzahl Autos: \"))\n",
    "```"
   ]
  }
 ],
 "metadata": {
  "kernelspec": {
   "display_name": "Python 3 (ipykernel)",
   "language": "python",
   "name": "python3"
  },
  "language_info": {
   "codemirror_mode": {
    "name": "ipython",
    "version": 3
   },
   "file_extension": ".py",
   "mimetype": "text/x-python",
   "name": "python",
   "nbconvert_exporter": "python",
   "pygments_lexer": "ipython3",
   "version": "3.10.12"
  }
 },
 "nbformat": 4,
 "nbformat_minor": 4
}
