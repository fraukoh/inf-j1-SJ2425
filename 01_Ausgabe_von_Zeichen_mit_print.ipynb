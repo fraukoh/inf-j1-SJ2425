{
 "cells": [
  {
   "cell_type": "markdown",
   "metadata": {},
   "source": [
    "# Ausgabe von Zeichen mit print()\n",
    "Oft werden Programme geschrieben, bei denen dem Benutzer Daten am Bildschirm ausgegeben werden. In Python kann man dazu die Funktion _print()_ benutzen.   "
   ]
  },
  {
   "cell_type": "code",
   "execution_count": 1,
   "metadata": {},
   "outputs": [
    {
     "name": "stdout",
     "output_type": "stream",
     "text": [
      "Hallo Python-Programmierer!\n"
     ]
    }
   ],
   "source": [
    "print(\"Hallo Python-Programmierer!\")"
   ]
  },
  {
   "cell_type": "markdown",
   "metadata": {},
   "source": [
    "## Struktogramm zum Programm:"
   ]
  },
  {
   "attachments": {
    "88e9191a-25f7-49a5-94ed-22e2837703ae.png": {
     "image/png": "[encoded data removed]"
    }
   },
   "cell_type": "markdown",
   "metadata": {},
   "source": [
    "![image.png](attachment:88e9191a-25f7-49a5-94ed-22e2837703ae.png)"
   ]
  },
  {
   "cell_type": "markdown",
   "metadata": {},
   "source": [
    "**Hinweise:**   \n",
    "Die Funktion _print()_ gibt das, was in ihren nachstehenden Klammern steht, auf dem Bildschirm aus. Dabei ist es wichtig, dass Texte in Anführungszeichen gesetzt werden, damit Python die Zeichen auch als Text erkennt und nicht als Python- bzw. Programm-Elemente interpretiert."
   ]
  }
 ],
 "metadata": {
  "kernelspec": {
   "display_name": "Python 3 (ipykernel)",
   "language": "python",
   "name": "python3"
  },
  "language_info": {
   "codemirror_mode": {
    "name": "ipython",
    "version": 3
   },
   "file_extension": ".py",
   "mimetype": "text/x-python",
   "name": "python",
   "nbconvert_exporter": "python",
   "pygments_lexer": "ipython3",
   "version": "3.10.12"
  }
 },
 "nbformat": 4,
 "nbformat_minor": 4
}
