{
 "cells": [
  {
   "cell_type": "raw",
   "metadata": {
    "vscode": {
     "languageId": "raw"
    }
   },
   "source": [
    "---\n",
    "format:\n",
    "    html:\n",
    "        code-fold: true\n",
    "        theme: cosmo\n",
    "jupyter: python3\n",
    "---"
   ]
  },
  {
   "cell_type": "markdown",
   "metadata": {},
   "source": [
    "# Aufgabe 1:\n",
    "Die Funktion __print_cow()__ soll eine Kuh auf der Konsole ausgeben. Die Kuh besteht aus mehreren Zeilen, die jeweils ein Teil der Kuh darstellen.   \n",
    "Die Funktion soll keine Parameter entgegennehmen. Sie soll die Kuh auf der Konsole ausgeben.\n"
   ]
  },
  {
   "cell_type": "code",
   "execution_count": 5,
   "metadata": {},
   "outputs": [
    {
     "name": "stdout",
     "output_type": "stream",
     "text": [
      "^__^\n",
      "(oo)\\_______\n",
      "(__)\\       )\\/\\/\n",
      "    ||----w |\n",
      "    ||     ||\n"
     ]
    }
   ],
   "source": [
    "def print_cow():\n",
    "    print(\"^__^\")\n",
    "    print(\"(oo)\\_______\")\n",
    "    print(\"(__)\\       )\\/\\/\")\n",
    "    print(\"    ||----w |\")\n",
    "    print(\"    ||     ||\")\n",
    "\n",
    "print_cow()"
   ]
  },
  {
   "cell_type": "markdown",
   "metadata": {},
   "source": [
    "# Aufgabe 2:\n",
    "Schreiben Sie ein Unterprogramm __dreiecksFlaeche__, welches die Länge der Grundseite g und die zugehörige Höhe h übergeben bekommt.   \n",
    "Das Unterprogramm zeigt in der Konsole die Fläche A=0.5*g*h.   \n",
    "Testen Sie Ihr Unterprogramm indem Sie es aufrufen.   "
   ]
  },
  {
   "cell_type": "code",
   "execution_count": 7,
   "metadata": {},
   "outputs": [
    {
     "name": "stdout",
     "output_type": "stream",
     "text": [
      "Die Fläche beträgt:  6.0\n"
     ]
    }
   ],
   "source": [
    "def dreiecksFlaeche(g,h):\n",
    "    flaeche = 0.5*g*h\n",
    "    print(\"Die Fläche beträgt: \", flaeche)\n",
    "\n",
    "dreiecksFlaeche(3,4)"
   ]
  },
  {
   "cell_type": "markdown",
   "metadata": {},
   "source": [
    "# Aufgabe 3:\n",
    "\n",
    "Erstellen Sie eine Funktion, die den jährlichen Zinsbetrag berechnet. Die Funktion soll die Parameter Kapital und Zinssatz in Prozent haben."
   ]
  },
  {
   "cell_type": "code",
   "execution_count": 11,
   "metadata": {},
   "outputs": [
    {
     "name": "stdout",
     "output_type": "stream",
     "text": [
      "Der Zinsbetrag beträgt:  50.0 Euro\n"
     ]
    }
   ],
   "source": [
    "def zinsbetrag(kapital, zinssatz):\n",
    "    zins = kapital * zinssatz/100\n",
    "    print(\"Der Zinsbetrag beträgt: \", zins, \"Euro\")\n",
    "\n",
    "zinsbetrag(1000, 5)"
   ]
  }
 ],
 "metadata": {
  "language_info": {
   "name": "python"
  }
 },
 "nbformat": 4,
 "nbformat_minor": 2
}
