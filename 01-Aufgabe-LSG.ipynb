{
 "cells": [
  {
   "cell_type": "raw",
   "metadata": {},
   "source": [
    "---\n",
    "format:\n",
    "    html:\n",
    "        code-fold: true\n",
    "        theme: cosmo\n",
    "jupyter: python3\n",
    "---"
   ]
  },
  {
   "cell_type": "markdown",
   "metadata": {
    "tags": []
   },
   "source": [
    "# Aufgabe:\n",
    "Schreiben Sie ein Python-Programm, das Ihre persönlichen Daten auf dem Bildschirm ausgibt.\n",
    "\n",
    "So soll die Bildschirmausgabe des Programms aussehen (Beispiel):\n",
    "```\n",
    "Meine Daten:  \n",
    "Nachname: Müller  \n",
    "Vorname: Karin   \n",
    "Straße: Karlstr. 17   \n",
    "Stadt: 78199 Donaueschingen\n",
    "```\n",
    "### Struktogramm:\n",
    "Zeichnen Sie ein Struktogramm zu dem Programm.\n",
    "\n",
    "[Struktogramm](01-Aufgabe-LSG_files/figure-html/cell-1-1-63f9b2eb-9f5d-437f-bc49-a2268d1dcc65.png)"
   ]
  },
  {
   "cell_type": "markdown",
   "metadata": {},
   "source": [
    "### Programmcode (Python-Code)"
   ]
  },
  {
   "cell_type": "code",
   "execution_count": 1,
   "metadata": {},
   "outputs": [
    {
     "name": "stdout",
     "output_type": "stream",
     "text": [
      "Meine Daten:\n",
      "Nachname: Müller\n",
      "Vorname: Karin\n",
      "Straße: Karlstr. 17\n",
      "Stadt: 78166 Donaueschingen\n"
     ]
    }
   ],
   "source": [
    "#Hier den Programmcode eingeben und mit STRG+ENTER ausführen\n",
    "print(\"Meine Daten:\")\n",
    "print(\"Nachname: Müller\")\n",
    "print(\"Vorname: Karin\")\n",
    "print(\"Straße: Karlstr. 17\")\n",
    "print(\"Stadt: 78166 Donaueschingen\")"
   ]
  }
 ],
 "metadata": {
  "kernelspec": {
   "display_name": "Python 3 (ipykernel)",
   "language": "python",
   "name": "python3"
  },
  "language_info": {
   "codemirror_mode": {
    "name": "ipython",
    "version": 3
   },
   "file_extension": ".py",
   "mimetype": "text/x-python",
   "name": "python",
   "nbconvert_exporter": "python",
   "pygments_lexer": "ipython3",
   "version": "3.10.12"
  }
 },
 "nbformat": 4,
 "nbformat_minor": 4
}
