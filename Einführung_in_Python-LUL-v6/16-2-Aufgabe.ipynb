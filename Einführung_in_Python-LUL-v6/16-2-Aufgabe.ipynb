{
 "cells": [
  {
   "cell_type": "markdown",
   "metadata": {},
   "source": [
    "# Aufgabe - Wiederholung mit while-Schleife:\n",
    "### Problemstellung\n",
    "Auf einem Sparbuch wird ein Geldbetrag angelegt. Für diesen Betrag gibt es einen bestimmten Zinssatz. In diesem Projekt soll überprüft werden, wie viele Jahre es dauert, bis dieser Betrag einen bestimmten Zielwert erreicht ober überschreitet. Dabei sollen die Jahresendwerte der Finanzanlage jeweils ausgegeben werden. (Zinseszinsen nicht vergessen!)\n",
    "### Problemanalyse:\n",
    "#### Welche Ausgabedaten will man erhalten?"
   ]
  },
  {
   "cell_type": "markdown",
   "metadata": {},
   "source": []
  },
  {
   "cell_type": "markdown",
   "metadata": {},
   "source": [
    "#### Welche Daten werden zur Bearbeitung benötigt?"
   ]
  },
  {
   "cell_type": "markdown",
   "metadata": {},
   "source": []
  },
  {
   "cell_type": "markdown",
   "metadata": {},
   "source": [
    "#### Welche Eigenschaften haben die Ausgabedaten? (Variablenliste)"
   ]
  },
  {
   "cell_type": "markdown",
   "metadata": {},
   "source": [
    "|Bedeutung|Datentyp|Variable|\n",
    "|--|--|--|\n",
    "||||\n",
    "||||"
   ]
  },
  {
   "cell_type": "markdown",
   "metadata": {},
   "source": [
    "#### So soll die Bildschirmausgabe des Programms aussehen (Beispiel):\n",
    "```\n",
    "Welcher Betrag soll angelegt werden? 1000\n",
    "Zu welchem prozentualen Zinssatz wird verzinst? 2\n",
    "Welcher Zielwert soll erreicht werden? 1200\n",
    "Jahr 1 : 1020.0\n",
    "Jahr 2 : 1040.4\n",
    "Jahr 3 : 1061.208\n",
    "Jahr 4 : 1082.43216\n",
    "...\n",
    "```"
   ]
  },
  {
   "cell_type": "markdown",
   "metadata": {},
   "source": [
    "### Struktogramm:\n",
    "Zeichnen Sie ein Struktogramm zu diesem Programm."
   ]
  },
  {
   "cell_type": "code",
   "execution_count": null,
   "metadata": {},
   "outputs": [],
   "source": []
  },
  {
   "cell_type": "markdown",
   "metadata": {},
   "source": [
    "### Programmcode (Python-Code)"
   ]
  },
  {
   "cell_type": "code",
   "execution_count": 5,
   "metadata": {},
   "outputs": [
    {
     "name": "stdin",
     "output_type": "stream",
     "text": [
      "Betrag: 1000\n",
      "Zinssatz: 2\n",
      "Zielwert 1200\n"
     ]
    },
    {
     "name": "stdout",
     "output_type": "stream",
     "text": [
      "Jahr =  1 Betrag = 1020.0\n",
      "Jahr =  2 Betrag = 1040.4\n",
      "Jahr =  3 Betrag = 1061.208\n",
      "Jahr =  4 Betrag = 1082.43216\n",
      "Jahr =  5 Betrag = 1104.0808032\n",
      "Jahr =  6 Betrag = 1126.162419264\n",
      "Jahr =  7 Betrag = 1148.68566764928\n",
      "Jahr =  8 Betrag = 1171.6593810022657\n",
      "Jahr =  9 Betrag = 1195.092568622311\n",
      "Jahr =  10 Betrag = 1218.9944199947574\n"
     ]
    }
   ],
   "source": [
    "#Hier den Programmcode eingeben und mit STRG+ENTER ausführen\n"
   ]
  }
 ],
 "metadata": {
  "kernelspec": {
   "display_name": "Python 3",
   "language": "python",
   "name": "python3"
  },
  "language_info": {
   "codemirror_mode": {
    "name": "ipython",
    "version": 3
   },
   "file_extension": ".py",
   "mimetype": "text/x-python",
   "name": "python",
   "nbconvert_exporter": "python",
   "pygments_lexer": "ipython3",
   "version": "3.8.2"
  }
 },
 "nbformat": 4,
 "nbformat_minor": 4
}
