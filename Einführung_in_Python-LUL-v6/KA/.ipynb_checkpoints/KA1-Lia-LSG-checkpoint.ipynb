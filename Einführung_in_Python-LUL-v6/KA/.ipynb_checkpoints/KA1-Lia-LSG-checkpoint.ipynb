{
 "cells": [
  {
   "cell_type": "markdown",
   "id": "3fecc436-9391-497d-94dd-0ed18dd47e95",
   "metadata": {},
   "source": [
    "# Aufgabe 1: [2 P]\n",
    "Schreiben Sie eine Python-Funktion namens berechne_durchschnitt, die drei Zahlen als Argumente akzeptiert und den Durchschnitt dieser Zahlen berechnet und zurückgibt."
   ]
  },
  {
   "cell_type": "code",
   "execution_count": 2,
   "id": "47e4ee8a-f818-4016-9197-e5531c9cdf08",
   "metadata": {
    "tags": []
   },
   "outputs": [
    {
     "name": "stdout",
     "output_type": "stream",
     "text": [
      "20.0\n"
     ]
    }
   ],
   "source": [
    "def berechne_durchschnitt(num1, num2, num3):\n",
    "    return (num1 + num2 + num3) / 3\n",
    "\n",
    "# Test der Funktion\n",
    "print(berechne_durchschnitt(10, 20, 30))  # Sollte 20.0 ausgeben"
   ]
  },
  {
   "cell_type": "markdown",
   "id": "d594c4c0-237c-496b-bd26-22f5d4bf8ada",
   "metadata": {},
   "source": [
    "# Aufgabe 2: [3 P]\n",
    "Schreiben Sie ein Python-Programm, das den Benutzer nach seiner Lieblingsfarbe fragt. Wenn die Lieblingsfarbe \"Blau\" ist, soll das Programm \"Das ist eine schöne Farbe!\" ausgeben. Wenn die Lieblingsfarbe eine andere Farbe ist, soll das Programm \"Interessante Wahl!\" ausgeben."
   ]
  },
  {
   "cell_type": "code",
   "execution_count": 1,
   "id": "9128f5be-c247-4f93-9115-57eb02373b9b",
   "metadata": {
    "tags": []
   },
   "outputs": [
    {
     "name": "stdin",
     "output_type": "stream",
     "text": [
      "Was ist Ihre Lieblingsfarbe?  lila\n"
     ]
    },
    {
     "name": "stdout",
     "output_type": "stream",
     "text": [
      "Interessante Wahl!\n"
     ]
    }
   ],
   "source": [
    "lieblingsfarbe = input(\"Was ist Ihre Lieblingsfarbe? \")\n",
    "\n",
    "if lieblingsfarbe.lower() == \"blau\":\n",
    "    print(\"Das ist eine schöne Farbe!\")\n",
    "else:\n",
    "    print(\"Interessante Wahl!\")\n"
   ]
  },
  {
   "cell_type": "markdown",
   "id": "4d5d10b3-3fcd-45e7-b8f0-80b2ea7e405e",
   "metadata": {},
   "source": [
    "# Aufgabe 3: [4 P]\n",
    "Schreiben Sie ein Python-Programm, das den Benutzer nach seinem Namen und seinem Alter fragt. Das Programm soll dann den Namen und das Alter des Benutzers ausgeben und berechnen, wie viele Jahre es noch bis zur Rente (angenommen mit 67 Jahren) sind."
   ]
  },
  {
   "cell_type": "code",
   "execution_count": null,
   "id": "646734c8-3442-4a3f-8b63-a8fd33e97430",
   "metadata": {},
   "outputs": [],
   "source": [
    "name = input(\"Bitte geben Sie Ihren Namen ein: \")\n",
    "alter = int(input(\"Bitte geben Sie Ihr Alter ein: \"))\n",
    "\n",
    "print(\"Hallo, \" + name + \"! Sie sind aktuell \" + str(alter) + \" Jahre alt.\")\n",
    "\n",
    "jahre_bis_rente = 67 - alter\n",
    "if jahre_bis_rente > 0:\n",
    "    print(\"Bis zu Ihrer Rente sind es noch \" + str(jahre_bis_rente) + \" Jahre.\")\n",
    "else:\n",
    "    print(\"Sie haben das Rentenalter bereits erreicht!\")"
   ]
  },
  {
   "attachments": {
    "f31a71e6-345c-48f1-9b51-49c698fe7a6c.png": {
     "image/png": "[encoded data removed]"
    }
   },
   "cell_type": "markdown",
   "id": "71412265-e745-4f4f-91c5-efcc01a95bce",
   "metadata": {},
   "source": [
    "# Aufgabe 4: [3 P]\n",
    "Schreiben Sie ein Python-Programm, das eine for-Schleife verwendet, um einen durchnummerierten Text auszugeben. Das Programm soll die Zahlen von 1 bis 5 ausgeben, gefolgt von dem Text \"Zeile\".\n",
    "\n",
    "Erwartete Ausgabe:\n",
    "\n",
    "![grafik.png](attachment:f31a71e6-345c-48f1-9b51-49c698fe7a6c.png)"
   ]
  },
  {
   "cell_type": "code",
   "execution_count": 3,
   "id": "12b8d143-d62d-4b75-b242-48b1c4dd65a9",
   "metadata": {
    "tags": []
   },
   "outputs": [
    {
     "name": "stdout",
     "output_type": "stream",
     "text": [
      "1. Zeile\n",
      "2. Zeile\n",
      "3. Zeile\n",
      "4. Zeile\n",
      "5. Zeile\n"
     ]
    }
   ],
   "source": [
    "for i in range(1, 6):\n",
    "    print(str(i) + \". Zeile\")"
   ]
  },
  {
   "cell_type": "markdown",
   "id": "633ebd0a-d38e-467f-939f-3d250477d401",
   "metadata": {},
   "source": [
    "# Aufgabe 5: [4 P]\n",
    "Gegeben ist folgender python-Code, der einige Fehler enthält:"
   ]
  },
  {
   "cell_type": "code",
   "execution_count": 4,
   "id": "b25ad22f-9b82-4f4d-8aa8-31fb80f6a2b5",
   "metadata": {
    "tags": []
   },
   "outputs": [
    {
     "ename": "SyntaxError",
     "evalue": "invalid syntax. Perhaps you forgot a comma? (2992609859.py, line 3)",
     "output_type": "error",
     "traceback": [
      "\u001b[0;36m  Cell \u001b[0;32mIn[4], line 3\u001b[0;36m\u001b[0m\n\u001b[0;31m    print(\"Das Ergebnis ist: \" ergebnis)\u001b[0m\n\u001b[0m          ^\u001b[0m\n\u001b[0;31mSyntaxError\u001b[0m\u001b[0;31m:\u001b[0m invalid syntax. Perhaps you forgot a comma?\n"
     ]
    }
   ],
   "source": [
    "def addiere(a, b):\n",
    "    erg = a + b\n",
    "    print(\"Das Ergebnis der Addition ist: \" ergebnis)\n",
    "\n",
    "def multipliziere(c):\n",
    "    result = c * d\n",
    "    print(\"Das Ergebnis der Multiplikation ist: \" result)\n",
    "\n",
    "def haupt():\n",
    "    x = \"10\"\n",
    "    y = 5\n",
    "    addiere(x, y)\n",
    "    multipliziere(x, y)\n",
    "\n",
    "haupt(x,y)\n"
   ]
  },
  {
   "attachments": {
    "53807d2b-274e-44d6-8276-f526221cdcf6.png": {
     "image/png": "[encoded data removed]"
    }
   },
   "cell_type": "markdown",
   "id": "77b7b945-ddab-4549-90a1-761e7b2090bf",
   "metadata": {},
   "source": [
    "Bitte korrigieren Sie diese Fehler, um den Code korrekt auszuführen.\n",
    "\n",
    "Das Programm soll folgende Ausgabe haben:\n",
    "\n",
    "![grafik.png](attachment:53807d2b-274e-44d6-8276-f526221cdcf6.png)"
   ]
  },
  {
   "cell_type": "code",
   "execution_count": 7,
   "id": "a078373a-4a50-4348-81ca-bf6c7b4b0a3c",
   "metadata": {
    "tags": []
   },
   "outputs": [
    {
     "name": "stdout",
     "output_type": "stream",
     "text": [
      "Das Ergebnis der Addition ist:  15\n",
      "Das Ergebnis der Multiplikation ist:  50\n"
     ]
    }
   ],
   "source": [
    "def addiere(a, b):\n",
    "    erg = a + b\n",
    "    print(\"Das Ergebnis der Addition ist: \", erg)\n",
    "\n",
    "def multipliziere(c, d):\n",
    "    result = c * d\n",
    "    print(\"Das Ergebnis der Multiplikation ist: \", result)\n",
    "\n",
    "def haupt():\n",
    "    x = 10\n",
    "    y = 5\n",
    "    addiere(x, y)\n",
    "    multipliziere(x, y)\n",
    "\n",
    "haupt()\n"
   ]
  }
 ],
 "metadata": {
  "kernelspec": {
   "display_name": "Python 3 (ipykernel)",
   "language": "python",
   "name": "python3"
  },
  "language_info": {
   "codemirror_mode": {
    "name": "ipython",
    "version": 3
   },
   "file_extension": ".py",
   "mimetype": "text/x-python",
   "name": "python",
   "nbconvert_exporter": "python",
   "pygments_lexer": "ipython3",
   "version": "3.10.6"
  }
 },
 "nbformat": 4,
 "nbformat_minor": 5
}
