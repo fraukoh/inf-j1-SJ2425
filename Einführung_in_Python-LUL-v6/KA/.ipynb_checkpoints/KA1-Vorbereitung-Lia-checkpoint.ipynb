{
 "cells": [
  {
   "cell_type": "markdown",
   "metadata": {},
   "source": [
    "# Aufgabe 2 [2 P]\n",
    "Schreiben Sie eine Funktion ```division(x,y)```, die eine Division x/y berechnet und als Rückgabewert liefert."
   ]
  },
  {
   "cell_type": "code",
   "execution_count": null,
   "metadata": {},
   "outputs": [],
   "source": [
    "# Hier Ihre Lösung eingeben\n"
   ]
  },
  {
   "cell_type": "markdown",
   "metadata": {},
   "source": [
    "# Aufgabe 3 [2 P]\n",
    "Schreiben Sie ein beliebiges Programm, welches den Benutzer nach 2 ganzen Zahlen fragt und die Funktion aus der Aufgabe 2 ```division(x,y)``` verwendet."
   ]
  },
  {
   "cell_type": "code",
   "execution_count": 1,
   "metadata": {},
   "outputs": [],
   "source": [
    "# Hier Ihre Lösung eingeben\n"
   ]
  },
  {
   "cell_type": "markdown",
   "metadata": {
    "tags": []
   },
   "source": [
    "# Aufgabe 4 [4 P]\n",
    "Schreiben Sie eine Funktion umrechnen(zoll), die die Länge in Zoll übernimmt und sie in Zentimeter zurück gibt.\n",
    "\n",
    "Zum Umrechnen verwenden Sie folgenden Satz: __laenge_cm = laenge_zoll * 2.54__  "
   ]
  },
  {
   "cell_type": "code",
   "execution_count": 1,
   "metadata": {},
   "outputs": [],
   "source": [
    "# Hier Ihre Lösung eingeben\n"
   ]
  },
  {
   "cell_type": "markdown",
   "metadata": {},
   "source": [
    "Folgendes Programm verwendet die Funktion umrechnen(zoll).\n",
    "Das Programm enthält einige Fehler. Korrigieren Sie den Code, damit er fehlerfrei funktioniert."
   ]
  },
  {
   "cell_type": "code",
   "execution_count": null,
   "metadata": {},
   "outputs": [],
   "source": [
    "l = input(\"Bitte Länge in Zoll eingeben:\")\n",
    "umrechnen(zoll)\n",
    "print(\"Ergebnis:\", laenge_cm , \"Zentimeter\")"
   ]
  },
  {
   "cell_type": "markdown",
   "metadata": {},
   "source": [
    "# Aufgabe 5 [6P]\n",
    "Schreiben Sie ein Chatbot-Programm, welches folgenden Dialog erzeugt:\n",
    "> -Wie heißt Du? _Der Benutzer gibt seinen Namen (name) ein._  \n",
    ">-Hallo 'name'! Und ich bin Hugo.    \n",
    ">-Wie alt bist Du denn? _Der Benutzer gibt sein Alter (alter) ein._   \n",
    ">-Cool! Ich bin 'alter - 2' Jahre   \n",
    ">-Aus welcher Stadt kommst Du? _Der Benutzer gibt die Stadt (stadt) ein._  \n",
    ">-So ein Zufall! Ich bin auch aus ’stadt’."
   ]
  },
  {
   "cell_type": "code",
   "execution_count": null,
   "metadata": {},
   "outputs": [],
   "source": [
    "# Hier Ihre Lösung eingeben\n"
   ]
  },
  {
   "cell_type": "markdown",
   "metadata": {},
   "source": [
    "# Aufgabe 6 [4 P]\n",
    "Ein Eisenwarenhändler bietet verschiedenste Waren zu unterschiedlichen Preisen an. Er führt unter anderem auch Schrauben, Muttern und Unterlegscheiben.   \n",
    "Die Preise für diese Artikel sind:   \n",
    "* Schrauben: 7 ct   \n",
    "* Muttern: 4 ct   \n",
    "* Unterlegscheiben 2 ct   \n",
    "\n",
    "Schreiben Sie eine Funktion _hornbach_, die für eine gegebene Anzahl Schrauben, Muttern und Unterlegscheiben den Endpreis (in EUR) berechnet und in die Konsole ausgibt."
   ]
  },
  {
   "cell_type": "code",
   "execution_count": null,
   "metadata": {},
   "outputs": [],
   "source": [
    "# Hier Ihre Lösung eingeben\n"
   ]
  },
  {
   "attachments": {
    "04e38e2b-0609-409c-9d85-36cb899d2c0a.png": {
     "image/png": "[encoded data removed]"
    }
   },
   "cell_type": "markdown",
   "metadata": {},
   "source": [
    "# Aufgabe 7 [3 P]\n",
    "Erstellen Sie ein Programm in python, welches 10 mal den Text \"Hello World\" ausgibt.\n",
    "Jede Ausgabe wird dabei durchnummeriert.\n",
    "\n",
    "Erwartet wird folgende Ausgabe:\n",
    "\n",
    "![grafik.png](attachment:04e38e2b-0609-409c-9d85-36cb899d2c0a.png)"
   ]
  },
  {
   "cell_type": "code",
   "execution_count": null,
   "metadata": {},
   "outputs": [],
   "source": [
    "# Hier Ihre Lösung eingeben\n"
   ]
  },
  {
   "cell_type": "markdown",
   "metadata": {},
   "source": [
    "# Aufgabe 8 [3 P]:\n",
    "Erstellen Sie ein Programm in python, welches den Text \"Hello World\" maximal 10 Mal ausgibt.\n",
    "Der Benutzer gibt selber die Anzahl der Wiederholungen ein. Wenn die Anzal größer als 10 eingegeben wird, kommt eine Meldng \"Die Anzahl der Wiederholungen ist überschritten!\""
   ]
  },
  {
   "cell_type": "code",
   "execution_count": null,
   "metadata": {},
   "outputs": [],
   "source": [
    "# Hier Ihre Lösung eingeben\n"
   ]
  }
 ],
 "metadata": {
  "kernelspec": {
   "display_name": "Python 3 (ipykernel)",
   "language": "python",
   "name": "python3"
  },
  "language_info": {
   "codemirror_mode": {
    "name": "ipython",
    "version": 3
   },
   "file_extension": ".py",
   "mimetype": "text/x-python",
   "name": "python",
   "nbconvert_exporter": "python",
   "pygments_lexer": "ipython3",
   "version": "3.10.6"
  }
 },
 "nbformat": 4,
 "nbformat_minor": 4
}
