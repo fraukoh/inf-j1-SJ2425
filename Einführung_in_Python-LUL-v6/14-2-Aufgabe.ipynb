{
 "cells": [
  {
   "cell_type": "markdown",
   "metadata": {},
   "source": [
    "# Aufgabe - Verzweigung mit verknüpften Bedingungen (ODER):\n",
    "### Problemstellung\n",
    "In diesem Projekt soll überprüft werden, ob ein Besucher eines Tierparks ein Kind (bis 12 Jahre) oder ein Senior (ab 60 Jahre) ist. Kinder und Senioren zahlen 8,00 Euro Eintritt, für alle anderen beträgt der Eintrittspreis 12,00 Euro.\n",
    "### Problemanalyse:\n",
    "#### Welche Ausgabedaten will man erhalten?"
   ]
  },
  {
   "cell_type": "markdown",
   "metadata": {},
   "source": []
  },
  {
   "cell_type": "markdown",
   "metadata": {},
   "source": [
    "#### Welche Daten werden zur Bearbeitung benötigt?"
   ]
  },
  {
   "cell_type": "markdown",
   "metadata": {},
   "source": []
  },
  {
   "cell_type": "markdown",
   "metadata": {},
   "source": [
    "#### Welche Eigenschaften haben die Ausgabedaten? (Variablenliste)"
   ]
  },
  {
   "cell_type": "markdown",
   "metadata": {},
   "source": [
    "|Bedeutung|Datentyp|Variable|\n",
    "|--|--|--|\n",
    "||||\n",
    "||||"
   ]
  },
  {
   "cell_type": "markdown",
   "metadata": {},
   "source": [
    "#### So soll die Bildschirmausgabe des Programms aussehen (Beispiel):\n",
    "```\n",
    "Bitte Alter eingeben: 59\n",
    "Der Eintrittspreis beträft 12.00 €\n",
    "```"
   ]
  },
  {
   "cell_type": "markdown",
   "metadata": {},
   "source": [
    "### Struktogramm:\n",
    "Zeichnen Sie ein Struktogramm zu diesem Programm."
   ]
  },
  {
   "cell_type": "code",
   "execution_count": null,
   "metadata": {},
   "outputs": [],
   "source": []
  },
  {
   "cell_type": "markdown",
   "metadata": {},
   "source": [
    "### Programmcode (Python-Code)"
   ]
  },
  {
   "cell_type": "code",
   "execution_count": null,
   "metadata": {},
   "outputs": [],
   "source": [
    "#Hier den Programmcode eingeben und mit STRG+ENTER ausführen"
   ]
  }
 ],
 "metadata": {
  "kernelspec": {
   "display_name": "Python 3",
   "language": "python",
   "name": "python3"
  },
  "language_info": {
   "codemirror_mode": {
    "name": "ipython",
    "version": 3
   },
   "file_extension": ".py",
   "mimetype": "text/x-python",
   "name": "python",
   "nbconvert_exporter": "python",
   "pygments_lexer": "ipython3",
   "version": "3.8.2"
  }
 },
 "nbformat": 4,
 "nbformat_minor": 4
}
