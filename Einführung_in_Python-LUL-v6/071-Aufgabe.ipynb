{
 "cells": [
  {
   "cell_type": "markdown",
   "metadata": {},
   "source": [
    "# Aufgabe:\n",
    "Bei den bisherigen Programmen waren alle Werte fest vom Programmcode vorgegeben. Es bestand keine Möglichkeit für die Programmbenutzer, selber Werte in das Programm einzugeben. Diese Option wird jetzt gezeigt. Schreiben Sie dazu ein Programm, das den Inhalt einer Kreisfläche berechnet. Der Benutzer soll den Radius im Programm auf Aufforderung eingeben. Das Programm errechnet die passende Kreisfläche und gibt das Ergebnis aus.\n",
    "\n",
    "Formel: $F=r^2\\pi$\n",
    "\n",
    "$F$-Fläche, $r$-Radius.\n",
    "\n",
    "### Problemanalyse:\n",
    "#### Welche Ausgabedaten will man erhalten?"
   ]
  },
  {
   "cell_type": "markdown",
   "metadata": {},
   "source": []
  },
  {
   "cell_type": "markdown",
   "metadata": {},
   "source": [
    "#### Welche Daten werden zur Bearbeitung benötigt?"
   ]
  },
  {
   "cell_type": "markdown",
   "metadata": {},
   "source": []
  },
  {
   "cell_type": "markdown",
   "metadata": {},
   "source": [
    "#### Welche Eigenschaften haben die Ausgabedaten? (Variablenliste)"
   ]
  },
  {
   "cell_type": "markdown",
   "metadata": {},
   "source": []
  },
  {
   "cell_type": "markdown",
   "metadata": {},
   "source": [
    "#### So soll die Bildschirmausgabe des Programms aussehen (Beispiel):\n",
    "```\n",
    "Bitte Radius eingeben: 10\n",
    "Der Inhalt der Kreisfläche beträgt: 314.0\n",
    "```\n",
    "### Struktogramm:\n",
    "Zeichnen Sie ein Struktogramm zu diesem Programm."
   ]
  },
  {
   "cell_type": "code",
   "execution_count": null,
   "metadata": {},
   "outputs": [],
   "source": []
  },
  {
   "cell_type": "markdown",
   "metadata": {},
   "source": [
    "### Programmcode (Python-Code)"
   ]
  },
  {
   "cell_type": "code",
   "execution_count": null,
   "metadata": {},
   "outputs": [],
   "source": [
    "#Hier den Programmcode eingeben und mit STRG+ENTER ausführen"
   ]
  }
 ],
 "metadata": {
  "kernelspec": {
   "display_name": "Python 3 (ipykernel)",
   "language": "python",
   "name": "python3"
  },
  "language_info": {
   "codemirror_mode": {
    "name": "ipython",
    "version": 3
   },
   "file_extension": ".py",
   "mimetype": "text/x-python",
   "name": "python",
   "nbconvert_exporter": "python",
   "pygments_lexer": "ipython3",
   "version": "3.10.12"
  }
 },
 "nbformat": 4,
 "nbformat_minor": 4
}
