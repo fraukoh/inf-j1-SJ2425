{
 "cells": [
  {
   "cell_type": "markdown",
   "metadata": {},
   "source": [
    "# Aufgabe: Funktion Urlaubsfahrt\n",
    "Sie möchten in den Ferien mit dem Auto in den Urlaub fahren. Schreiben Sie ein Programm, das die Benzinkosten für Ihre Urlaubsfahrt berechnet. \n",
    "Da die Berechnung der gesamten Benzinkosten etwas länger bzw. komplexer ist als die bisherigen Berechnungen, soll diese Berechnung in eine eigene Funktion ausgelagert werden. Wie das gemacht wird, erfahren Sie in den oben angegebenen Informationsmaterialien. Bearbeiten Sie alle drei angegebenen Materialien (mitsamt der kleinen Herausforderungen am Ende der Informationsblätter) und benutzen Sie anschließend für dieses Programm eine Funktion mit Parameter und Rückgabewert.\n",
    "Folgende Parameter soll diese Funktion erhalten: Benzinpreis, Verbrauch des Autos, Länge der Strecke.\n",
    "\n",
    "### Problemanalyse:\n",
    "#### Welche Ausgabedaten will man erhalten?"
   ]
  },
  {
   "cell_type": "markdown",
   "metadata": {},
   "source": []
  },
  {
   "cell_type": "markdown",
   "metadata": {},
   "source": [
    "#### Welche Daten werden zur Bearbeitung benötigt?"
   ]
  },
  {
   "cell_type": "markdown",
   "metadata": {},
   "source": []
  },
  {
   "cell_type": "markdown",
   "metadata": {},
   "source": [
    "#### Welche Eigenschaften haben die Ausgabedaten? (Variablenliste)"
   ]
  },
  {
   "cell_type": "markdown",
   "metadata": {},
   "source": []
  },
  {
   "cell_type": "markdown",
   "metadata": {},
   "source": [
    "#### So soll die Bildschirmausgabe des Programms aussehen (Beispiel):\n",
    "```\n",
    "Benzinkostenrechner für den Urlaub\n",
    "durchschnittlicher Verbrauch (in Liter/100km): 7.6\n",
    "Wie viel km möchten Sie fahren: 890\n",
    "Benzinpreis in Euro/Liter: 1.56\n",
    "Die Fahrtkosten für Ihre Urlaubsfahrt betragen 105.51\n",
    "```\n",
    "### Struktogramm:\n",
    "Zeichnen Sie ein Struktogramm zu diesem Programm."
   ]
  },
  {
   "cell_type": "code",
   "execution_count": null,
   "metadata": {},
   "outputs": [],
   "source": []
  },
  {
   "cell_type": "markdown",
   "metadata": {},
   "source": [
    "### Programmcode (Python-Code)"
   ]
  },
  {
   "cell_type": "code",
   "execution_count": null,
   "metadata": {},
   "outputs": [],
   "source": [
    "#Hier den Programmcode eingeben und mit STRG+ENTER ausführen"
   ]
  }
 ],
 "metadata": {
  "kernelspec": {
   "display_name": "Python 3 (ipykernel)",
   "language": "python",
   "name": "python3"
  },
  "language_info": {
   "codemirror_mode": {
    "name": "ipython",
    "version": 3
   },
   "file_extension": ".py",
   "mimetype": "text/x-python",
   "name": "python",
   "nbconvert_exporter": "python",
   "pygments_lexer": "ipython3",
   "version": "3.10.6"
  }
 },
 "nbformat": 4,
 "nbformat_minor": 4
}
