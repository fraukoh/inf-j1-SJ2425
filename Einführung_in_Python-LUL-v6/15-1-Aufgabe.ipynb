{
 "cells": [
  {
   "cell_type": "markdown",
   "metadata": {},
   "source": [
    "# Aufgabe - Wiederholung mit for-Schleife:\n",
    "### Problemstellung\n",
    "Schreiben Sie ein Programm, das den Betrag des Taschengelds in Abhängigkeit vom Alter ausgibt. Das Taschengeld wird vom 6. bis zum 21. Lebensjahr ausgezahlt. Dabei sind der Anfangsbetrag und die jährliche Erhöhung vom Benutzer einzugeben.\n",
    "### Problemanalyse:\n",
    "#### Welche Ausgabedaten will man erhalten?"
   ]
  },
  {
   "cell_type": "markdown",
   "metadata": {},
   "source": []
  },
  {
   "cell_type": "markdown",
   "metadata": {},
   "source": [
    "#### Welche Daten werden zur Bearbeitung benötigt?"
   ]
  },
  {
   "cell_type": "markdown",
   "metadata": {},
   "source": []
  },
  {
   "cell_type": "markdown",
   "metadata": {},
   "source": [
    "#### Welche Eigenschaften haben die Ausgabedaten? (Variablenliste)"
   ]
  },
  {
   "cell_type": "markdown",
   "metadata": {},
   "source": [
    "|Bedeutung|Datentyp|Variable|\n",
    "|--|--|--|\n",
    "||||\n",
    "||||"
   ]
  },
  {
   "cell_type": "markdown",
   "metadata": {},
   "source": [
    "#### So soll die Bildschirmausgabe des Programms aussehen (Beispiel):\n",
    "```\n",
    "Wie hoch ist das erste Taschengeld? 5\n",
    "Jährliche Erhöhung des Taschengelds: 3\n",
    "Alter 6: 5.0 €\n",
    "Alter 7: 8.0 €\n",
    "Alter 8: 11.0 €\n",
    "Alter 9: 14.0 €\n",
    "Alter 10: 17.0 €\n",
    "Alter 11: 20.0 €\n",
    "Alter 12: 23.0 €\n",
    "Alter 13: 26.0 €\n",
    "Alter 14: 29.0 €\n",
    "Alter 15: 32.0 €\n",
    "Alter 16: 35.0 €\n",
    "Alter 17: 38.0 €\n",
    "```"
   ]
  },
  {
   "cell_type": "markdown",
   "metadata": {},
   "source": [
    "### Struktogramm:\n",
    "Zeichnen Sie ein Struktogramm zu diesem Programm."
   ]
  },
  {
   "cell_type": "code",
   "execution_count": null,
   "metadata": {},
   "outputs": [],
   "source": []
  },
  {
   "cell_type": "markdown",
   "metadata": {},
   "source": [
    "### Programmcode (Python-Code)"
   ]
  },
  {
   "cell_type": "code",
   "execution_count": null,
   "metadata": {},
   "outputs": [],
   "source": [
    "#Hier den Programmcode eingeben und mit STRG+ENTER ausführen"
   ]
  }
 ],
 "metadata": {
  "kernelspec": {
   "display_name": "Python 3",
   "language": "python",
   "name": "python3"
  },
  "language_info": {
   "codemirror_mode": {
    "name": "ipython",
    "version": 3
   },
   "file_extension": ".py",
   "mimetype": "text/x-python",
   "name": "python",
   "nbconvert_exporter": "python",
   "pygments_lexer": "ipython3",
   "version": "3.8.2"
  }
 },
 "nbformat": 4,
 "nbformat_minor": 4
}
