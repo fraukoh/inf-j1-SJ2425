{
 "cells": [
  {
   "cell_type": "markdown",
   "metadata": {},
   "source": [
    "# Funktionen ohne Parameter\n",
    "Eine Funktion ist ein ausgelagertes Unterprogramm, das beliebig oft im Hauptprogramm aufgerufen werden kann. Dadurch wird das ganze Programm übersichtlicher und einfacher zu entwickeln. Bestimmte Vorgänge, die immer wieder benötigt werden, können so ausgelagert werden und von jeder beliebigen Programmstelle aus immer wieder aufgerufen werden, anstatt sie jedes Mal neu zu erstellen."
   ]
  },
  {
   "cell_type": "code",
   "execution_count": null,
   "metadata": {},
   "outputs": [],
   "source": [
    "# Beispiel:\n",
    "# Hier ist die Funktion:\n",
    "def hallo():\n",
    "    print(\"Hallo miteinander!\")\n",
    "# Hier beginnt das Hauptprogramm:\n",
    "hallo()\n",
    "hallo()\n",
    "hallo()"
   ]
  },
  {
   "cell_type": "markdown",
   "metadata": {},
   "source": [
    "Die Definition der Funktion beginnt mit dem Schlüsselwort _def_. Danach folgt der Name der Funktion. (Für die Namensgebung gelten die gleichen Regeln wie für Variablen.) Anschließend folgen runde Klammern, in denen sogenannte Funktionsparameter stehen können. Da hier im Beispiel keine Funktionsparameter übergeben werden, bleiben die Klammern leer. (In den folgenden Beispielen ändert sich das dann.) Hinter den Klammern folgt ein Doppelpunkt, um anzuzeigen, dass danach die Anweisungen folgen, mit denen die Funktion die Aufgaben durchführt, für die sie geschrieben wird. Im Beispiel hier ist das nur eine Anweisung: ```print(\"Hallo miteinander!\")```. \n",
    "## Wichtig:\n",
    ">Die zur Funktion gehörigen Anweisungen müssen auf einer Ebene eingerückt sein.\n",
    "Im Hauptteil des Programms wird die Funktion hallo() dreimal aufgerufen. Der Aufruf besteht aus dem Namen der Funktion, gefolgt von den runden Klammern. Bei jedem Aufruf springt das Programm zur Funktion und führt sie aus. Nach der Ausführung der Funktion springt das Programm wieder zur Aufrufstelle zurück und führt die Anweisung aus, die auf den Funktionsaufruf folgt. Auf diese Weise wird im vorliegenden Beispiel dreimal die Funktion hallo() aufgerufen und gibt dabei jedes Mal den Text \"Hallo miteinander!\" aus"
   ]
  },
  {
   "cell_type": "markdown",
   "metadata": {
    "tags": []
   },
   "source": [
    "## Struktogramme"
   ]
  },
  {
   "attachments": {
    "a8be587e-cbee-4808-8cf9-d6e79aef2926.png": {
     "image/png": "[encoded data removed]"
    }
   },
   "cell_type": "markdown",
   "metadata": {},
   "source": [
    "![image.png](attachment:a8be587e-cbee-4808-8cf9-d6e79aef2926.png)"
   ]
  },
  {
   "attachments": {
    "e7d4ef7d-e42d-4800-9f88-004003f5e9ee.png": {
     "image/png": "[encoded data removed]"
    }
   },
   "cell_type": "markdown",
   "metadata": {},
   "source": [
    "![image.png](attachment:e7d4ef7d-e42d-4800-9f88-004003f5e9ee.png)"
   ]
  },
  {
   "cell_type": "markdown",
   "metadata": {},
   "source": [
    "## Aufgabe 1:\n",
    "Nehmen Sie 3 Veränderungen an dem Beispielrogramm vor:\n",
    "    1. Ändern Sie das Programm so ab, dass es ab jetzt den Text „Hallo miteinander und willkommen!“ ausgibt.\n",
    "    2. Ändern Sie den Namen der Funktion von hallo() auf begruessen() ab. Danach soll das Programm wie bisher funktionieren. An wie vielen Stellen müssen Sie das Programm anpassen?\n",
    "    3. Ändern Sie das Programm so ab, dass der neue Text jetzt fünf Mal und nicht mehr drei Mal ausgegeben wird."
   ]
  },
  {
   "cell_type": "code",
   "execution_count": null,
   "metadata": {},
   "outputs": [],
   "source": [
    "# Aufgabe:\n",
    "# Hier ist die Funktion:\n",
    "def hallo():\n",
    "    print(\"Hallo miteinander!\")\n",
    "# Hier beginnt das Hauptprogramm:\n",
    "hallo()\n",
    "hallo()\n",
    "hallo()"
   ]
  },
  {
   "cell_type": "code",
   "execution_count": null,
   "metadata": {},
   "outputs": [],
   "source": [
    "# Aufgabe:\n",
    "# Hier ist die Funktion:\n",
    "\n",
    "# Hier beginnt das Hauptprogramm:"
   ]
  }
 ],
 "metadata": {
  "kernelspec": {
   "display_name": "Python 3 (ipykernel)",
   "language": "python",
   "name": "python3"
  },
  "language_info": {
   "codemirror_mode": {
    "name": "ipython",
    "version": 3
   },
   "file_extension": ".py",
   "mimetype": "text/x-python",
   "name": "python",
   "nbconvert_exporter": "python",
   "pygments_lexer": "ipython3",
   "version": "3.10.12"
  }
 },
 "nbformat": 4,
 "nbformat_minor": 4
}
