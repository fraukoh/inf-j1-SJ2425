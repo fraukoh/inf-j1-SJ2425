{
 "cells": [
  {
   "cell_type": "markdown",
   "metadata": {},
   "source": [
    "# Aufgabe: Berechnung der Höhenmeter mit einer Funktion\n",
    "Sie haben in der früheren Aufgabe schon ein Programm geschrieben, welches mit Hilfe der Siedetemperatur von Wasser die aktuelle Höhe berechnen kann. Das Programm hat folgenden Aufbau:\n",
    "```\n",
    "print(\"Programm zur Berechnung der Höhe anhand der Siedetemperatur\")\n",
    "siedetemperatur = float(input(\"Siedetemperatur in Grad Celsius: \"))\n",
    "hoehe = 30000 - 300 * siedetemperatur\n",
    "print(\"Die Höhe beträgt:\", hoehe,\"Meter\")\n",
    "```\n",
    "Ändern Sie das Programm so ab, dass für die Berechnung der Höhe eine Funktion _berechne_hoehe()_ benutzt wird. Diese empfängt als Parameter die Siedetemperatur, berechnet daraus die Höhe und gibt diese Höhe als Rückgabewert zurück. \n",
    "Im Hauptprogramm soll der Benutzer zur Eingabe der Siedetemperatur aufgefordert werden, danach die Funktion _berechne_hoehe()_ aufgerufen werden und ihr Rückgabewert in einer Variablen _hoehe_ abgespeichert werden. Abschließend soll die errechnete Höhe mit einem kleinen Erläuterungstext ausgegeben werden."
   ]
  },
  {
   "cell_type": "markdown",
   "metadata": {},
   "source": [
    "### Struktogramm:\n",
    "Zeichnen Sie ein Struktogramm zu diesem Programm."
   ]
  },
  {
   "cell_type": "code",
   "execution_count": null,
   "metadata": {},
   "outputs": [],
   "source": []
  },
  {
   "cell_type": "markdown",
   "metadata": {},
   "source": [
    "### Programmcode (Python-Code)"
   ]
  },
  {
   "cell_type": "code",
   "execution_count": null,
   "metadata": {},
   "outputs": [],
   "source": [
    "#Hier den Programmcode eingeben und mit STRG+ENTER ausführen"
   ]
  }
 ],
 "metadata": {
  "kernelspec": {
   "display_name": "Python 3 (ipykernel)",
   "language": "python",
   "name": "python3"
  },
  "language_info": {
   "codemirror_mode": {
    "name": "ipython",
    "version": 3
   },
   "file_extension": ".py",
   "mimetype": "text/x-python",
   "name": "python",
   "nbconvert_exporter": "python",
   "pygments_lexer": "ipython3",
   "version": "3.10.12"
  }
 },
 "nbformat": 4,
 "nbformat_minor": 4
}
