{
 "cells": [
  {
   "cell_type": "markdown",
   "metadata": {},
   "source": [
    "# Aufgabe 1\n",
    "Erstellen Sie ein Programm, das solange nach einem PIN-Code fragt, bis die PIN richtig eingegeben wird.\n",
    "Nach der richtigen Eingabe erscheint eine Meldung „Ihnen werden 1000 EUR überwiesen“"
   ]
  },
  {
   "cell_type": "code",
   "execution_count": null,
   "metadata": {},
   "outputs": [],
   "source": [
    "#Hier den Programmcode eingeben und mit STRG+ENTER ausführen\n"
   ]
  },
  {
   "cell_type": "markdown",
   "metadata": {},
   "source": [
    "# Aufgabe 2\n",
    "Erstellen Sie ein Programm mit dem Namen ```ratemal```. Dieses Programm erzeugt eine Zufallszahl im Bereich (1,100). Der Benutzer des Programms soll diese Zahl mit möglichst wenigen Versuchen raten. Nach jedem Versuch bekommt der Benutzer die Information, ob die geratene Zahl größer, kleiner oder gleich der gesuchten Zahl ist.\n",
    "\n",
    "HINWEIS: Eine Zufallszahl (z) im Bereich (u,o) kann man mit folgendem Befehl erzeugen: "
   ]
  },
  {
   "cell_type": "code",
   "execution_count": null,
   "metadata": {},
   "outputs": [],
   "source": [
    "import random #aktiviert das random-Modul\n",
    "z=random.randint(u,o) #erzeugt eine ganzzahlige Zufallszahl zwischen u und o"
   ]
  },
  {
   "cell_type": "code",
   "execution_count": null,
   "metadata": {},
   "outputs": [],
   "source": [
    "#Hier den Programmcode eingeben und mit STRG+ENTER ausführen\n"
   ]
  },
  {
   "cell_type": "markdown",
   "metadata": {},
   "source": [
    "### Aufgabe 2.1\n",
    "Wie viele Versuche hat der Benutzer gebraucht, um die Zahl zu erraten? Programmieren Sie die Ausgabe von Anzahl der Versuche."
   ]
  },
  {
   "cell_type": "markdown",
   "metadata": {},
   "source": [
    "# Aufgabe 3\n",
    "3n+1 – Problem (Achterbahnzahlen):   \n",
    "Die 1. Zahl einer Zahlenreihe ist ein gegebener Startwert (=n)   \n",
    "Die jeweils nächste Zahl wird aus der letzten Zahl gemäß folgender Regel gebildet:   \n",
    "Falls die letzte Zahl gerade war, wird sie durch 2 geteilt. Das Ergebnis ist dann die nächste Zahl.   \n",
    "Falls die letzte Zahl ungerade war, wird sie mit 3 multipliziert und anschließend 1 addiert. Das Ergebnis ist dann die nächste Zahl.    \n",
    "\n",
    ">__Beispiel: n=5__\n",
    ">1) 5-ungerade 3x5+1=16   \n",
    ">2) 16-gerade 16/2=8   \n",
    ">3) 8-gerade 8/2=4   \n",
    ">4) 4-gerade 4/2=2   \n",
    ">5) 2-gerade 2/2=1   \n",
    ">6) 1-ungerade 3x1+1=4   \n",
    ">usw.\n",
    "\n",
    "Erstellen Sie eine Funktion achterbahn(n), die diese Zahlenfolge berechnet.   \n",
    "Limitieren Sie die Iterationszahl (z.B. iz=100)."
   ]
  },
  {
   "cell_type": "code",
   "execution_count": null,
   "metadata": {},
   "outputs": [],
   "source": [
    "#Hier den Programmcode eingeben und mit STRG+ENTER ausführen\n"
   ]
  }
 ],
 "metadata": {
  "kernelspec": {
   "display_name": "Python 3 (ipykernel)",
   "language": "python",
   "name": "python3"
  },
  "language_info": {
   "codemirror_mode": {
    "name": "ipython",
    "version": 3
   },
   "file_extension": ".py",
   "mimetype": "text/x-python",
   "name": "python",
   "nbconvert_exporter": "python",
   "pygments_lexer": "ipython3",
   "version": "3.8.10"
  }
 },
 "nbformat": 4,
 "nbformat_minor": 4
}
