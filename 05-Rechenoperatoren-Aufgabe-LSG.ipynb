{
 "cells": [
  {
   "cell_type": "raw",
   "metadata": {},
   "source": [
    "---\n",
    "format:\n",
    "    html:\n",
    "        code-fold: true\n",
    "        theme: cosmo\n",
    "jupyter: python3\n",
    "---"
   ]
  },
  {
   "cell_type": "markdown",
   "metadata": {},
   "source": [
    "# Aufgabe:\n",
    "Entwerfen Sie ein Programm, das die Rechenoperationen plus, minus, mal, geteilt und hoch durchführt.\n",
    "\n",
    "Definieren Sie dazu zwei Variablen, die Sie für die Berechnungen nutzen und geben Sie das Ergebnis am Bildschirm aus."
   ]
  },
  {
   "cell_type": "markdown",
   "metadata": {},
   "source": [
    "#### Welche Eigenschaften haben die Ausgabedaten? (Variablenliste)"
   ]
  },
  {
   "cell_type": "markdown",
   "metadata": {},
   "source": [
    "|Bedeutung| Inhalt| Variablenname|\n",
    "|-|-|-|\n",
    "|Erste Zahl| Ganzzahl| zahl1|\n",
    "|Zweite Zahl| Ganzzahl| zahl2|\n",
    "|Summe| Ganzzahl| addition|\n",
    "|Differenz| Ganzzahl| subtraktion|\n",
    "|Produkt |Ganzzahl |multiplikation|\n",
    "|Quotient| Kommazahl| division|\n",
    "|Potenz |Ganzzahl |potenz|"
   ]
  },
  {
   "cell_type": "code",
   "execution_count": 1,
   "metadata": {},
   "outputs": [
    {
     "name": "stdout",
     "output_type": "stream",
     "text": [
      "Zahl1: 13 Zahl2: 7\n",
      "-------------------\n",
      "Addition: 20\n",
      "Subtraktion: 6\n",
      "Multiplikation: 91\n",
      "Division: 1.8571428571428572\n",
      "Potenz: 62748517\n"
     ]
    }
   ],
   "source": [
    "#Hier den Programmcode eingeben und mit STRG+ENTER ausführen\n",
    "zahl1 = 13\n",
    "zahl2 = 7\n",
    "\n",
    "# Durchführen aller Berechnungen:\n",
    "addition = zahl1 + zahl2\n",
    "subtraktion = zahl1 - zahl2\n",
    "multiplikation = zahl1 * zahl2\n",
    "division = zahl1 / zahl2\n",
    "potenz = zahl1 ** zahl2\n",
    "\n",
    "# Ausgabe\n",
    "# Überschrift\n",
    "print(\"Zahl1:\", zahl1, \"Zahl2:\", zahl2) \n",
    "print(\"-------------------\")\n",
    "\n",
    "# Ergebnisse\n",
    "print(\"Addition:\", addition)\n",
    "print(\"Subtraktion:\", subtraktion)\n",
    "print(\"Multiplikation:\", multiplikation)\n",
    "print(\"Division:\", division)\n",
    "print(\"Potenz:\", potenz)"
   ]
  },
  {
   "cell_type": "markdown",
   "metadata": {},
   "source": [
    "[Struktogramm](05-Rechenoperatoren-Aufgabe-LSG_files/figure-html/cell-5-1-4530a300-3422-4574-ac84-411e12c72975.png)"
   ]
  }
 ],
 "metadata": {
  "kernelspec": {
   "display_name": "Python 3",
   "language": "python",
   "name": "python3"
  },
  "language_info": {
   "codemirror_mode": {
    "name": "ipython",
    "version": 3
   },
   "file_extension": ".py",
   "mimetype": "text/x-python",
   "name": "python",
   "nbconvert_exporter": "python",
   "pygments_lexer": "ipython3",
   "version": "3.8.2"
  }
 },
 "nbformat": 4,
 "nbformat_minor": 4
}
