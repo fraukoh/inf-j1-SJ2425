{
 "cells": [
  {
   "cell_type": "markdown",
   "metadata": {},
   "source": [
    "# Die for-Schleife (Zählerschleife)\n",
    "## Einfache Listen erstellen\n",
    "In Python kann mit der Anweisung _range(endwert)_ eine Liste mit Zahlenwerten angelegt werden. Dabei wird eine Liste erzeugt, die bei 0 beginnt und bis zur letzten Zahl vor endwert reicht, also von _0_ bis _endwert-1_. Die im folgenden Beispiel mit _range(10)_ erzeugte Zahlenliste beginnt also mit _0_ und geht bis _9_, nämlich _endwert-1_, d.h. _10 - 1 = 9_:"
   ]
  },
  {
   "cell_type": "code",
   "execution_count": 1,
   "metadata": {},
   "outputs": [
    {
     "name": "stdout",
     "output_type": "stream",
     "text": [
      "[0, 1, 2, 3, 4, 5, 6, 7, 8, 9]\n"
     ]
    }
   ],
   "source": [
    "zahlenliste = range(10)\n",
    "# Ausgabe der Liste mit ihren Zahlenwerten:\n",
    "print(list(zahlenliste))"
   ]
  },
  {
   "cell_type": "markdown",
   "metadata": {},
   "source": [
    "## Listen mit einem eigenen Startwert erstellen \n",
    "Man kann der Liste aber auch einen anderen Startwert als 0 geben, dazu wird die Anweisung range(anfangswert, endwert) benutzt:"
   ]
  },
  {
   "cell_type": "code",
   "execution_count": 2,
   "metadata": {},
   "outputs": [
    {
     "name": "stdout",
     "output_type": "stream",
     "text": [
      "[3, 4, 5, 6, 7, 8, 9]\n"
     ]
    }
   ],
   "source": [
    "zahlenliste = range(3, 10)\n",
    "# Ausgabe der Liste mit ihren Zahlenwerten:\n",
    "print(list(zahlenliste))"
   ]
  },
  {
   "cell_type": "markdown",
   "metadata": {},
   "source": [
    "## Listen mit einer anderen Schrittweite erstellen \n",
    "Möchte man zusätzlich eine andere Schrittweite verwenden, wird hierfür die Anweisung \n",
    "_range(anfangswert, endwert, schrittweite)_ benutzt:"
   ]
  },
  {
   "cell_type": "code",
   "execution_count": 3,
   "metadata": {},
   "outputs": [
    {
     "name": "stdout",
     "output_type": "stream",
     "text": [
      "[1, 3, 5, 7, 9, 11, 13, 15]\n"
     ]
    }
   ],
   "source": [
    "zahlenliste = range(1, 16, 2)\n",
    "# Ausgabe der Liste mit ihren Zahlenwerten:\n",
    "print(list(zahlenliste))"
   ]
  },
  {
   "cell_type": "markdown",
   "metadata": {},
   "source": [
    "## Aufgaben \n",
    "    a) Erzeugen Sie eine Liste von 0 bis 15.\n",
    "    b) Erzeugen Sie eine Liste von 8 bis 19.\n",
    "    c) Erzeugen Sie eine Liste aller geraden Zahlen von 2 bis 20.\n",
    "    d) Erzeugen Sie eine Liste in absteigender Reihenfolge von 10 bis 1."
   ]
  },
  {
   "cell_type": "code",
   "execution_count": null,
   "metadata": {},
   "outputs": [],
   "source": [
    "# Aufgabe a\n",
    "\n",
    "# Aufgabe b\n",
    "\n",
    "# Aufgabe c\n",
    "\n",
    "# Aufgabe d\n"
   ]
  },
  {
   "cell_type": "markdown",
   "metadata": {},
   "source": [
    "## Die for-Schleife\n",
    "In manchen Fällen muss ein Programm immer wieder die gleichen Anweisungen hintereinander ausführen, bis ein bestimmtes Ergebnis eintritt. Wenn der Programmierer schon vorher weiß, wie oft ein Programm wiederholt werden muss, wird oft die for-Schleife benutzt.\n",
    "Das folgende Programm gibt zeilenweise alle Zahlen von 0 bis 9 aus:\n",
    "Beispiel:"
   ]
  },
  {
   "cell_type": "code",
   "execution_count": 4,
   "metadata": {},
   "outputs": [
    {
     "name": "stdout",
     "output_type": "stream",
     "text": [
      "0\n",
      "1\n",
      "2\n",
      "3\n",
      "4\n",
      "5\n",
      "6\n",
      "7\n",
      "8\n",
      "9\n"
     ]
    }
   ],
   "source": [
    "for zahl in range(10):\n",
    "    print(zahl)"
   ]
  },
  {
   "cell_type": "markdown",
   "metadata": {},
   "source": [
    "In Python besteht die for-Schleife aus drei Elementen:    \n",
    "1. Dem Schlüsselwort „for“, mit dem die Schleife eingeleitet wird,   \n",
    "2. einer Variablen (hier: _zahl_), die mit in der Reihe nach alle Werte der folgenden Liste annimmt,   \n",
    "3. einer Liste, in der die Werte stehen, die die angegebene Variable der Reihe nach annimmt. Diese Liste kann mit _range(endwert)_ angegeben werden. Nach der Angabe der Liste folgt ein Doppelpunkt als Zeichen dafür, dass hier der Inhalt der Schleife beginnt. In den folgenden Zeilen stehen die Anweisungen, die im Rahmen der Schleife ausgeführt werden sollen, wobei die Zeilen, die zur Schleife gehören, eingerückt sein müssen. Dabei nimmt _zahl_ der Reihe nach alle Werte in der Liste an, d.h. im obigen Beispiel nimmt zahl im ersten Durchlauf den Wert 0 an, im zweiten Durchlauf den Wert 1, danach 2 und so weiter, bis zahl im letzten Durchlauf den letzten Wert der Liste annimmt, also 9. \n",
    "\n",
    "Anwendungsbeispiel:\n",
    "Es soll ein Programm geschrieben werden, das die 5er-Reihe von 5 bis 50 ausgibt:"
   ]
  },
  {
   "cell_type": "code",
   "execution_count": 5,
   "metadata": {},
   "outputs": [
    {
     "name": "stdout",
     "output_type": "stream",
     "text": [
      "1 mal 5 = 5\n",
      "2 mal 5 = 10\n",
      "3 mal 5 = 15\n",
      "4 mal 5 = 20\n",
      "5 mal 5 = 25\n",
      "6 mal 5 = 30\n",
      "7 mal 5 = 35\n",
      "8 mal 5 = 40\n",
      "9 mal 5 = 45\n",
      "10 mal 5 = 50\n"
     ]
    }
   ],
   "source": [
    "produkt=0\n",
    "for zahl in range(1, 11):\n",
    "    produkt = zahl * 5\n",
    "    print(zahl, \"mal 5 =\", produkt)"
   ]
  },
  {
   "cell_type": "markdown",
   "metadata": {},
   "source": [
    "In diesem Programm nimmt die Variable zahl der Reihe nach die Werte von 1 bis 10 an. Bei jedem Schleifendurchlauf wird zahl mit 5 multipliziert und anschließend auf dem Bildschirm ausgegeben, beim ersten Durchgang also 1 mal 5, beim zweiten Durchgang 2 mal 5 etc., bis zum Schluss dann 10 mal 5 berechnet und ausgegeben wird."
   ]
  },
  {
   "cell_type": "markdown",
   "metadata": {},
   "source": [
    "# Struktogramm:"
   ]
  },
  {
   "attachments": {
    "0f872d10-b40f-47a0-8c09-8eae636dcd49.png": {
     "image/png": "[encoded data removed]"
    }
   },
   "cell_type": "markdown",
   "metadata": {},
   "source": [
    "![image.png](attachment:0f872d10-b40f-47a0-8c09-8eae636dcd49.png)"
   ]
  }
 ],
 "metadata": {
  "kernelspec": {
   "display_name": "Python 3 (ipykernel)",
   "language": "python",
   "name": "python3"
  },
  "language_info": {
   "codemirror_mode": {
    "name": "ipython",
    "version": 3
   },
   "file_extension": ".py",
   "mimetype": "text/x-python",
   "name": "python",
   "nbconvert_exporter": "python",
   "pygments_lexer": "ipython3",
   "version": "3.11.9"
  }
 },
 "nbformat": 4,
 "nbformat_minor": 4
}
